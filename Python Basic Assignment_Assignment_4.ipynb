{
 "cells": [
  {
   "cell_type": "markdown",
   "id": "fa3c506b",
   "metadata": {},
   "source": [
    "## 1. What exactly is []?"
   ]
  },
  {
   "cell_type": "code",
   "execution_count": null,
   "id": "9b29533a",
   "metadata": {},
   "outputs": [],
   "source": [
    "# Square bracket is used to define list, see below example\n",
    "# The empty list value, which is a list value that contains no items. This is similar to how '' is the empty string value.\n",
    "# l = [2,3,4,5,6], here l is the name of list and numbers within square bracket are elements of list"
   ]
  },
  {
   "cell_type": "markdown",
   "id": "9143640c",
   "metadata": {},
   "source": [
    "## 2. In a list of values stored in a variable called spam, how would you assign the value 'hello' as the third value? (Assume [2, 4, 6, 8, 10] are in spam.)\n",
    "\n",
    "#### Let's pretend the spam includes the list ['a', 'b', 'c', 'd'] for the next three queries."
   ]
  },
  {
   "cell_type": "code",
   "execution_count": null,
   "id": "c87cfe3c",
   "metadata": {},
   "outputs": [],
   "source": [
    "# to assign value to the third index, 'insert' function can be used which take two arguments 1) index value where you want\n",
    "# to insert, 2) value which you want to assign. Refer below example\n",
    "\n",
    "# OR\n",
    "# below code can be used\n",
    "spam[2] = 'hello' "
   ]
  },
  {
   "cell_type": "code",
   "execution_count": 7,
   "id": "1cbce36a",
   "metadata": {},
   "outputs": [
    {
     "data": {
      "text/plain": [
       "[2, 4, 'hello', 6, 8, 10]"
      ]
     },
     "execution_count": 7,
     "metadata": {},
     "output_type": "execute_result"
    }
   ],
   "source": [
    "spam = [2,4,6,8,10]\n",
    "spam.insert(2,'hello')\n",
    "spam"
   ]
  },
  {
   "cell_type": "markdown",
   "id": "ec14a21b",
   "metadata": {},
   "source": [
    "## 3. What is the value of spam[int(int('3' * 2) / 11)]?"
   ]
  },
  {
   "cell_type": "code",
   "execution_count": 16,
   "id": "6f553d59",
   "metadata": {},
   "outputs": [
    {
     "data": {
      "text/plain": [
       "'d'"
      ]
     },
     "execution_count": 16,
     "metadata": {},
     "output_type": "execute_result"
    }
   ],
   "source": [
    "spam = ['a', 'b', 'c', 'd']\n",
    "spam[int(int('3' * 2) / 11)]\n",
    "\n",
    "# it will show 'd'"
   ]
  },
  {
   "cell_type": "markdown",
   "id": "478b26b1",
   "metadata": {},
   "source": [
    "## 4. What is the value of spam[-1]?"
   ]
  },
  {
   "cell_type": "code",
   "execution_count": 17,
   "id": "f5f62062",
   "metadata": {},
   "outputs": [
    {
     "data": {
      "text/plain": [
       "'d'"
      ]
     },
     "execution_count": 17,
     "metadata": {},
     "output_type": "execute_result"
    }
   ],
   "source": [
    "# it will show d because negative indexes count from the end\n",
    "spam[-1]"
   ]
  },
  {
   "cell_type": "markdown",
   "id": "a58f0bbf",
   "metadata": {},
   "source": [
    "## 5. What is the value of spam[:2]?"
   ]
  },
  {
   "cell_type": "code",
   "execution_count": 18,
   "id": "a01d8693",
   "metadata": {},
   "outputs": [
    {
     "data": {
      "text/plain": [
       "['a', 'b']"
      ]
     },
     "execution_count": 18,
     "metadata": {},
     "output_type": "execute_result"
    }
   ],
   "source": [
    "# it will show a and b because starting index is zero (by default) and ending index is 1 (2-1).\n",
    "spam[:2]"
   ]
  },
  {
   "cell_type": "markdown",
   "id": "5cc6c0a9",
   "metadata": {},
   "source": [
    "## 6. What is the value of bacon.index('cat')?\n",
    "\n",
    "#### Let's pretend bacon has the list [3.14, 'cat,' 11, 'cat,' True] for the next three questions."
   ]
  },
  {
   "cell_type": "code",
   "execution_count": 29,
   "id": "fe64b5cc",
   "metadata": {},
   "outputs": [
    {
     "data": {
      "text/plain": [
       "1"
      ]
     },
     "execution_count": 29,
     "metadata": {},
     "output_type": "execute_result"
    }
   ],
   "source": [
    "# it will show 1 as below example\n",
    "\n",
    "bacon = [3.14, 'cat', 11, 'cat', True]\n",
    "bacon.index('cat')"
   ]
  },
  {
   "cell_type": "markdown",
   "id": "a41561f7",
   "metadata": {},
   "source": [
    "## 7. How does bacon.append(99) change the look of the list value in bacon?"
   ]
  },
  {
   "cell_type": "code",
   "execution_count": 30,
   "id": "4dd586ee",
   "metadata": {},
   "outputs": [
    {
     "data": {
      "text/plain": [
       "[3.14, 'cat', 11, 'cat', True, 99]"
      ]
     },
     "execution_count": 30,
     "metadata": {},
     "output_type": "execute_result"
    }
   ],
   "source": [
    "# it will append the list with 99 at last index\n",
    "bacon.append(99)\n",
    "bacon"
   ]
  },
  {
   "cell_type": "markdown",
   "id": "cf8c3d7c",
   "metadata": {},
   "source": [
    "## 8. How does bacon.remove('cat') change the look of the list in bacon?"
   ]
  },
  {
   "cell_type": "code",
   "execution_count": 31,
   "id": "7ecd81f8",
   "metadata": {},
   "outputs": [
    {
     "data": {
      "text/plain": [
       "[3.14, 11, 'cat', True, 99]"
      ]
     },
     "execution_count": 31,
     "metadata": {},
     "output_type": "execute_result"
    }
   ],
   "source": [
    "# it will remvoe first element of 'cat' from the list and new list will be look as below\n",
    "bacon.remove('cat')\n",
    "bacon"
   ]
  },
  {
   "cell_type": "markdown",
   "id": "627470f8",
   "metadata": {},
   "source": [
    "## 9. What are the list concatenation and list replication operators?"
   ]
  },
  {
   "cell_type": "code",
   "execution_count": null,
   "id": "ef7ac80d",
   "metadata": {},
   "outputs": [],
   "source": [
    "# The operator for list concatenation is +, while the operator for replication is *. (This is the same as for strings.)"
   ]
  },
  {
   "cell_type": "markdown",
   "id": "37124437",
   "metadata": {},
   "source": [
    "## 10. What is difference between the list methods append() and insert()?"
   ]
  },
  {
   "cell_type": "code",
   "execution_count": null,
   "id": "fb55cd64",
   "metadata": {},
   "outputs": [],
   "source": [
    "# While append() will add values only to the end of a list, insert() can add them anywhere in the list."
   ]
  },
  {
   "cell_type": "markdown",
   "id": "16b2f180",
   "metadata": {},
   "source": [
    "## 11. What are the two methods for removing items from a list?"
   ]
  },
  {
   "cell_type": "code",
   "execution_count": null,
   "id": "922a6dd3",
   "metadata": {},
   "outputs": [],
   "source": [
    "# The del statement and the remove() list method are two ways to remove values from a list."
   ]
  },
  {
   "cell_type": "markdown",
   "id": "53798148",
   "metadata": {},
   "source": [
    "## 12. Describe how list values and string values are identical."
   ]
  },
  {
   "cell_type": "code",
   "execution_count": null,
   "id": "3cde9385",
   "metadata": {},
   "outputs": [],
   "source": [
    "# Both lists and strings can be passed to len(), have indexes and slices, be used in for loops, be concatenated or \n",
    "# replicated, and be used with the in and not in operators."
   ]
  },
  {
   "cell_type": "markdown",
   "id": "baa44e9e",
   "metadata": {},
   "source": [
    "## 13. What's the difference between tuples and lists?"
   ]
  },
  {
   "cell_type": "code",
   "execution_count": null,
   "id": "414d6297",
   "metadata": {},
   "outputs": [],
   "source": [
    "# Lists are mutable; they can have values added, removed, or changed. Tuples are immutable; \n",
    "# they cannot be changed at all. Also, tuples are written using parentheses, ( and ), while lists \n",
    "# use the square brackets, [ and ]."
   ]
  },
  {
   "cell_type": "markdown",
   "id": "00c49753",
   "metadata": {},
   "source": [
    "## 14. How do you type a tuple value that only contains the integer 42?"
   ]
  },
  {
   "cell_type": "code",
   "execution_count": 34,
   "id": "2fba4e09",
   "metadata": {},
   "outputs": [
    {
     "data": {
      "text/plain": [
       "(42,)"
      ]
     },
     "execution_count": 34,
     "metadata": {},
     "output_type": "execute_result"
    }
   ],
   "source": [
    "# (42,) (The trailing comma is mandatory.)\n",
    "t = (42,)\n",
    "t"
   ]
  },
  {
   "cell_type": "markdown",
   "id": "73c52b76",
   "metadata": {},
   "source": [
    "## 15. How do you get a list value's tuple form? How do you get a tuple value's list form?"
   ]
  },
  {
   "cell_type": "code",
   "execution_count": null,
   "id": "dc14087c",
   "metadata": {},
   "outputs": [],
   "source": [
    "# he tuple() and list() functions, respectively"
   ]
  },
  {
   "cell_type": "markdown",
   "id": "b8058641",
   "metadata": {},
   "source": [
    "## 16. Variables that \"contain\" list values are not necessarily lists themselves. Instead, what do they contain?"
   ]
  },
  {
   "cell_type": "code",
   "execution_count": null,
   "id": "de694e30",
   "metadata": {},
   "outputs": [],
   "source": [
    "# They contain references to list values."
   ]
  },
  {
   "cell_type": "markdown",
   "id": "cad2925c",
   "metadata": {},
   "source": [
    "## 17. How do you distinguish between copy.copy() and copy.deepcopy()?"
   ]
  },
  {
   "cell_type": "code",
   "execution_count": null,
   "id": "d0c64fa8",
   "metadata": {},
   "outputs": [],
   "source": [
    "# The copy.copy() function will do a shallow copy of a list, while the copy.deepcopy() function will \n",
    "# do a deep copy of a list. That is, only copy.deepcopy() will duplicate any lists inside the list."
   ]
  }
 ],
 "metadata": {
  "kernelspec": {
   "display_name": "Python 3 (ipykernel)",
   "language": "python",
   "name": "python3"
  },
  "language_info": {
   "codemirror_mode": {
    "name": "ipython",
    "version": 3
   },
   "file_extension": ".py",
   "mimetype": "text/x-python",
   "name": "python",
   "nbconvert_exporter": "python",
   "pygments_lexer": "ipython3",
   "version": "3.9.7"
  }
 },
 "nbformat": 4,
 "nbformat_minor": 5
}
