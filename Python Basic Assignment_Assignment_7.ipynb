{
 "cells": [
  {
   "cell_type": "markdown",
   "id": "fa3c506b",
   "metadata": {},
   "source": [
    "## 1. What is the name of the feature responsible for generating Regex objects?"
   ]
  },
  {
   "cell_type": "code",
   "execution_count": null,
   "id": "9b29533a",
   "metadata": {},
   "outputs": [],
   "source": [
    "# Ans: The re.compile() function returns Regex object"
   ]
  },
  {
   "cell_type": "markdown",
   "id": "9143640c",
   "metadata": {},
   "source": [
    "## 2. Why do raw strings often appear in Regex objects?"
   ]
  },
  {
   "cell_type": "code",
   "execution_count": null,
   "id": "1cbce36a",
   "metadata": {},
   "outputs": [],
   "source": [
    "# Ans: Raw strings are used so that backslashes do not have to be escaped"
   ]
  },
  {
   "cell_type": "markdown",
   "id": "ec14a21b",
   "metadata": {},
   "source": [
    "## 3. What is the return value of the search() method?"
   ]
  },
  {
   "cell_type": "code",
   "execution_count": null,
   "id": "6f553d59",
   "metadata": {},
   "outputs": [],
   "source": [
    "# Ans: The search() method returns Match objects"
   ]
  },
  {
   "cell_type": "markdown",
   "id": "478b26b1",
   "metadata": {},
   "source": [
    "## 4. From a Match item, how do you get the actual strings that match the pattern?"
   ]
  },
  {
   "cell_type": "code",
   "execution_count": null,
   "id": "f5f62062",
   "metadata": {},
   "outputs": [],
   "source": [
    "# Ans: The group() method returns strings of the matched text."
   ]
  },
  {
   "cell_type": "markdown",
   "id": "a58f0bbf",
   "metadata": {},
   "source": [
    "## 5. In the regex which created from the r'(\\d\\d\\d)-(\\d\\d\\d-\\d\\d\\d\\d)', what does group zero cover? Group 2? Group 1?"
   ]
  },
  {
   "cell_type": "code",
   "execution_count": null,
   "id": "a01d8693",
   "metadata": {},
   "outputs": [],
   "source": [
    "# Ans: Group 0 is the entire match, group 1 covers the first set of parentheses, and group 2 covers the second \n",
    "# set of parentheses"
   ]
  },
  {
   "cell_type": "markdown",
   "id": "5cc6c0a9",
   "metadata": {},
   "source": [
    "## 6. In standard expression syntax, parentheses and intervals have distinct meanings. How can you tell a regex that you want it to fit real parentheses and periods?"
   ]
  },
  {
   "cell_type": "code",
   "execution_count": null,
   "id": "fe64b5cc",
   "metadata": {},
   "outputs": [],
   "source": [
    "# Ans: Periods and parentheses can be escaped with a backslash: \\., \\(, and \\)."
   ]
  },
  {
   "cell_type": "markdown",
   "id": "a41561f7",
   "metadata": {},
   "source": [
    "## 7. The findall() method returns a string list or a list of string tuples. What causes it to return one of the two options?"
   ]
  },
  {
   "cell_type": "code",
   "execution_count": null,
   "id": "4dd586ee",
   "metadata": {},
   "outputs": [],
   "source": [
    "# Ans: If the regex has no groups, a list of strings is returned. If the regex has groups, a list of tuples of \n",
    "# strings is returned."
   ]
  },
  {
   "cell_type": "markdown",
   "id": "cf8c3d7c",
   "metadata": {},
   "source": [
    "## 8. In standard expressions, what does the | character mean?"
   ]
  },
  {
   "cell_type": "code",
   "execution_count": null,
   "id": "7ecd81f8",
   "metadata": {},
   "outputs": [],
   "source": [
    "# Ans: The | character signifies matching “either, or” between two groups."
   ]
  },
  {
   "cell_type": "markdown",
   "id": "627470f8",
   "metadata": {},
   "source": [
    "## 9. In regular expressions, what does the character stand for?"
   ]
  },
  {
   "cell_type": "code",
   "execution_count": null,
   "id": "ef7ac80d",
   "metadata": {},
   "outputs": [],
   "source": [
    "# Ans: which character ?not mentioned"
   ]
  },
  {
   "cell_type": "markdown",
   "id": "37124437",
   "metadata": {},
   "source": [
    "## 10. In regular expressions, what is the difference between the + and * characters?"
   ]
  },
  {
   "cell_type": "code",
   "execution_count": null,
   "id": "fb55cd64",
   "metadata": {},
   "outputs": [],
   "source": [
    "# Ans: The + matches one or more. The * matches zero or more."
   ]
  },
  {
   "cell_type": "markdown",
   "id": "16b2f180",
   "metadata": {},
   "source": [
    "## 11. What is the difference between {4} and {4,5} in regular expression?"
   ]
  },
  {
   "cell_type": "code",
   "execution_count": null,
   "id": "922a6dd3",
   "metadata": {},
   "outputs": [],
   "source": [
    "# Ans: The {4} matches exactly three instances of the preceding group. The {4,5} matches between four and five instances."
   ]
  },
  {
   "cell_type": "markdown",
   "id": "53798148",
   "metadata": {},
   "source": [
    "## 12. What do you mean by the \\d, \\w, and \\s shorthand character classes signify in regular expressions?"
   ]
  },
  {
   "cell_type": "code",
   "execution_count": null,
   "id": "3cde9385",
   "metadata": {},
   "outputs": [],
   "source": [
    "# Ans: The \\d, \\w, and \\s shorthand character classes match a single digit, word, or space character, respectively."
   ]
  },
  {
   "cell_type": "markdown",
   "id": "baa44e9e",
   "metadata": {},
   "source": [
    "## 13. What do means by \\D, \\W, and \\S shorthand character classes signify in regular expressions?"
   ]
  },
  {
   "cell_type": "code",
   "execution_count": null,
   "id": "414d6297",
   "metadata": {},
   "outputs": [],
   "source": [
    "# Ans: The \\D, \\W, and \\S shorthand character classes match a single character that is not a digit, word, or space \n",
    "# character, respectively."
   ]
  },
  {
   "cell_type": "markdown",
   "id": "00c49753",
   "metadata": {},
   "source": [
    "## 14. What is the difference between .*? and .*?"
   ]
  },
  {
   "cell_type": "code",
   "execution_count": null,
   "id": "2fba4e09",
   "metadata": {},
   "outputs": [],
   "source": [
    "# Ans: The .* performs a greedy match, and the .*? performs a nongreedy match."
   ]
  },
  {
   "cell_type": "markdown",
   "id": "83ed9b9c",
   "metadata": {},
   "source": [
    "## 15. What is the syntax for matching both numbers and lowercase letters with a character class?"
   ]
  },
  {
   "cell_type": "code",
   "execution_count": null,
   "id": "413f37b2",
   "metadata": {},
   "outputs": [],
   "source": [
    "# Ans: Either [0-9a-z] or [a-z0-9]"
   ]
  },
  {
   "cell_type": "markdown",
   "id": "e3fb0f3f",
   "metadata": {},
   "source": [
    "## 16. What is the procedure for making a normal expression in regax case insensitive?"
   ]
  },
  {
   "cell_type": "code",
   "execution_count": null,
   "id": "ffa3dc9e",
   "metadata": {},
   "outputs": [],
   "source": [
    "# Ans: Passing re.I or re.IGNORECASE as the second argument to re.compile() will make the matching case insensitive."
   ]
  },
  {
   "cell_type": "markdown",
   "id": "42e8877f",
   "metadata": {},
   "source": [
    "## 17. What does the . character normally match? What does it match if re.DOTALL is passed as 2nd argument in re.compile()?"
   ]
  },
  {
   "cell_type": "code",
   "execution_count": null,
   "id": "7a6d2eff",
   "metadata": {},
   "outputs": [],
   "source": [
    "# Ans: The . character normally matches any character except the newline character. If re.DOTALL is passed as \n",
    "# the second argument to re.compile(), then the dot will also match newline characters."
   ]
  },
  {
   "cell_type": "markdown",
   "id": "293b72f4",
   "metadata": {},
   "source": [
    "## 18. If numReg = re.compile(r'\\d+'), what will numRegex.sub('X', '11 drummers, 10 pipers, five rings, 4 hen') return?"
   ]
  },
  {
   "cell_type": "code",
   "execution_count": null,
   "id": "b2f1bcc3",
   "metadata": {},
   "outputs": [],
   "source": [
    "# Ans: 'X drummers, X pipers, five rings, X hens'"
   ]
  },
  {
   "cell_type": "markdown",
   "id": "627f9fc8",
   "metadata": {},
   "source": [
    "## 19. What does passing re.VERBOSE as the 2nd argument to re.compile() allow to do?"
   ]
  },
  {
   "cell_type": "code",
   "execution_count": null,
   "id": "eeda8822",
   "metadata": {},
   "outputs": [],
   "source": [
    "# Ans: The re.VERBOSE argument allows you to add whitespace and comments to the string passed to re.compile()"
   ]
  },
  {
   "cell_type": "markdown",
   "id": "a2604e9a",
   "metadata": {},
   "source": [
    "## 20. How would you write a regex that match a number with comma for every three digits? It must match the given following:\n",
    "'42'\n",
    "\n",
    "'1,234'\n",
    "\n",
    "'6,368,745'\n",
    "\n",
    "but not the following:\n",
    "\n",
    "'12,34,567' (which has only two digits between the commas)\n",
    "\n",
    "'1234' (which lacks commas)\n"
   ]
  },
  {
   "cell_type": "code",
   "execution_count": null,
   "id": "150f4e09",
   "metadata": {},
   "outputs": [],
   "source": [
    "# Ans: e.compile(r'^\\d{1,3}(,{3})*$') will create this regex, but other regex strings can produce a similar \n",
    "# regular expression."
   ]
  },
  {
   "cell_type": "markdown",
   "id": "ad278b44",
   "metadata": {},
   "source": [
    "## 21. How would you write a regex that matches the full name of someone whose last name is Watanabe? You can assume that the first name that comes before it will always be one word that begins with a capital letter. The regex must match the following:\n",
    "\n",
    "'Haruto Watanabe'\n",
    "\n",
    "'Alice Watanabe'\n",
    "\n",
    "'RoboCop Watanabe'\n",
    "\n",
    "but not the following:\n",
    "\n",
    "'haruto Watanabe' (where the first name is not capitalized)\n",
    "\n",
    "'Mr. Watanabe' (where the preceding word has a nonletter character)\n",
    "\n",
    "'Watanabe' (which has no first name)\n",
    "\n",
    "'Haruto watanabe' (where Watanabe is not capitalized)\n"
   ]
  },
  {
   "cell_type": "code",
   "execution_count": null,
   "id": "77ed604c",
   "metadata": {},
   "outputs": [],
   "source": [
    "# Ans: re.compile(r'[A-Z][a-z]*\\sWatanabe')"
   ]
  },
  {
   "cell_type": "markdown",
   "id": "d8c4aa20",
   "metadata": {},
   "source": [
    "## 22. How would you write a regex that matches a sentence where the first word is either Alice, Bob, or Carol; the second word is either eats, pets, or throws; the third word is apples, cats, or baseballs; and the sentence ends with a period? This regex should be case-insensitive. It must match the following:\n",
    "\n",
    "'Alice eats apples.'\n",
    "\n",
    "'Bob pets cats.'\n",
    "\n",
    "'Carol throws baseballs.'\n",
    "\n",
    "'Alice throws Apples.'\n",
    "\n",
    "'BOB EATS CATS.'\n",
    "\n",
    "but not the following:\n",
    "\n",
    "'RoboCop eats apples.'\n",
    "\n",
    "'ALICE THROWS FOOTBALLS.'\n",
    "\n",
    "'Carol eats 7 cats.'\n"
   ]
  },
  {
   "cell_type": "code",
   "execution_count": null,
   "id": "3be6953e",
   "metadata": {},
   "outputs": [],
   "source": [
    "# Ans: re.compile(r'(Alice|Bob|Carol)\\s(eats|pets|throws)\\ s(apples|cats|baseballs)\\.', re.IGNORECASE)"
   ]
  }
 ],
 "metadata": {
  "kernelspec": {
   "display_name": "Python 3 (ipykernel)",
   "language": "python",
   "name": "python3"
  },
  "language_info": {
   "codemirror_mode": {
    "name": "ipython",
    "version": 3
   },
   "file_extension": ".py",
   "mimetype": "text/x-python",
   "name": "python",
   "nbconvert_exporter": "python",
   "pygments_lexer": "ipython3",
   "version": "3.9.7"
  }
 },
 "nbformat": 4,
 "nbformat_minor": 5
}
