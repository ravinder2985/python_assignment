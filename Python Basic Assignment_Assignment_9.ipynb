{
 "cells": [
  {
   "cell_type": "markdown",
   "id": "fa3c506b",
   "metadata": {},
   "source": [
    "## 1. To what does a relative path refer?"
   ]
  },
  {
   "cell_type": "code",
   "execution_count": null,
   "id": "9b29533a",
   "metadata": {},
   "outputs": [],
   "source": [
    "# Ans: Relative paths are relative to the current working directory"
   ]
  },
  {
   "cell_type": "markdown",
   "id": "9143640c",
   "metadata": {},
   "source": [
    "## 2. What does an absolute path start with your operating system?"
   ]
  },
  {
   "cell_type": "code",
   "execution_count": null,
   "id": "1cbce36a",
   "metadata": {},
   "outputs": [],
   "source": [
    "# Ans: Absolute paths start with the root folder, such as / or C:\\."
   ]
  },
  {
   "cell_type": "markdown",
   "id": "ec14a21b",
   "metadata": {},
   "source": [
    "## 3. What do the functions os.getcwd() and os.chdir() do?"
   ]
  },
  {
   "cell_type": "code",
   "execution_count": null,
   "id": "6f553d59",
   "metadata": {},
   "outputs": [],
   "source": [
    "# Ans: The os.getcwd() function returns the current working directory. The os.chdir() function changes the current \n",
    "# working directory"
   ]
  },
  {
   "cell_type": "markdown",
   "id": "478b26b1",
   "metadata": {},
   "source": [
    "## 4. What are the . and .. folders?"
   ]
  },
  {
   "cell_type": "code",
   "execution_count": null,
   "id": "f5f62062",
   "metadata": {},
   "outputs": [],
   "source": [
    "# Ans: The . folder is the current folder, and .. is the parent folder"
   ]
  },
  {
   "cell_type": "markdown",
   "id": "a58f0bbf",
   "metadata": {},
   "source": [
    "## 5. In C:\\bacon\\eggs\\spam.txt, which part is the dir name, and which part is the base name?"
   ]
  },
  {
   "cell_type": "code",
   "execution_count": null,
   "id": "a01d8693",
   "metadata": {},
   "outputs": [],
   "source": [
    "# Ans: C:\\bacon\\eggs is the dir name, while spam.txt is the base name."
   ]
  },
  {
   "cell_type": "markdown",
   "id": "5cc6c0a9",
   "metadata": {},
   "source": [
    "## 6. What are the three “mode” arguments that can be passed to the open() function?"
   ]
  },
  {
   "cell_type": "code",
   "execution_count": null,
   "id": "fe64b5cc",
   "metadata": {},
   "outputs": [],
   "source": [
    "# Ans: The string 'r' for read mode, 'w' for write mode, and 'a' for append mode"
   ]
  },
  {
   "cell_type": "markdown",
   "id": "a41561f7",
   "metadata": {},
   "source": [
    "## 7. What happens if an existing file is opened in write mode?"
   ]
  },
  {
   "cell_type": "code",
   "execution_count": null,
   "id": "4dd586ee",
   "metadata": {},
   "outputs": [],
   "source": [
    "# Ans: An existing file opened in write mode is erased and completely overwritten"
   ]
  },
  {
   "cell_type": "markdown",
   "id": "cf8c3d7c",
   "metadata": {},
   "source": [
    "## 8. How do you tell the difference between read() and readlines()?"
   ]
  },
  {
   "cell_type": "code",
   "execution_count": null,
   "id": "7ecd81f8",
   "metadata": {},
   "outputs": [],
   "source": [
    "# Ans: The read() method returns the file’s entire contents as a single string value. The readlines() method returns \n",
    "# a list of strings, where each string is a line from the file’s contents."
   ]
  },
  {
   "cell_type": "markdown",
   "id": "627470f8",
   "metadata": {},
   "source": [
    "## 9. What data structure does a shelf value resemble?"
   ]
  },
  {
   "cell_type": "code",
   "execution_count": null,
   "id": "ef7ac80d",
   "metadata": {},
   "outputs": [],
   "source": [
    "# Ans: A shelf value resembles a dictionary value; it has keys and values, along with keys() and values() methods \n",
    "# that work similarly to the dictionary methods of the same names"
   ]
  }
 ],
 "metadata": {
  "kernelspec": {
   "display_name": "Python 3 (ipykernel)",
   "language": "python",
   "name": "python3"
  },
  "language_info": {
   "codemirror_mode": {
    "name": "ipython",
    "version": 3
   },
   "file_extension": ".py",
   "mimetype": "text/x-python",
   "name": "python",
   "nbconvert_exporter": "python",
   "pygments_lexer": "ipython3",
   "version": "3.9.7"
  }
 },
 "nbformat": 4,
 "nbformat_minor": 5
}
