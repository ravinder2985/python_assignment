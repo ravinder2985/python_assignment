{
 "cells": [
  {
   "cell_type": "markdown",
   "id": "f768cc61",
   "metadata": {},
   "source": [
    "### 1. Add the current date to the text file today.txt as a string."
   ]
  },
  {
   "cell_type": "code",
   "execution_count": 1,
   "id": "063d4bf0",
   "metadata": {},
   "outputs": [
    {
     "name": "stdout",
     "output_type": "stream",
     "text": [
      "19-11-2022\n"
     ]
    }
   ],
   "source": [
    "import datetime\n",
    "# Code to Add current date to the today.txt file\n",
    "file = open('today.txt','w')\n",
    "file.write(datetime.datetime.now().strftime(\"%d-%m-%Y\"))\n",
    "file.close()\n",
    "# Code to Read current date from today.txt file\n",
    "file = open('today.txt','r')\n",
    "print(file.read())\n",
    "file.close()"
   ]
  },
  {
   "cell_type": "markdown",
   "id": "6c87c781",
   "metadata": {},
   "source": [
    "### 2. Read the text file today.txt into the string today_string"
   ]
  },
  {
   "cell_type": "code",
   "execution_count": 2,
   "id": "bf15643a",
   "metadata": {},
   "outputs": [
    {
     "name": "stdout",
     "output_type": "stream",
     "text": [
      "19-11-2022\n"
     ]
    }
   ],
   "source": [
    "file = open('today.txt','r')\n",
    "today_string = file.read()\n",
    "print(today_string)"
   ]
  },
  {
   "cell_type": "markdown",
   "id": "7e326fd6",
   "metadata": {},
   "source": [
    "### 3. Parse the date from today_string."
   ]
  },
  {
   "cell_type": "code",
   "execution_count": 3,
   "id": "9023f16f",
   "metadata": {},
   "outputs": [
    {
     "name": "stdout",
     "output_type": "stream",
     "text": [
      "2022-11-19 00:00:00\n"
     ]
    }
   ],
   "source": [
    "from datetime import datetime\n",
    "parsed_data = datetime.strptime(today_string, '%d-%m-%Y')\n",
    "print(parsed_data)"
   ]
  },
  {
   "cell_type": "markdown",
   "id": "375ef81f",
   "metadata": {},
   "source": [
    "### 4. List the files in your current directory"
   ]
  },
  {
   "cell_type": "code",
   "execution_count": 4,
   "id": "ab0f6810",
   "metadata": {},
   "outputs": [
    {
     "name": "stdout",
     "output_type": "stream",
     "text": [
      "application_log.txt\n",
      "books.csv\n",
      "books.db\n",
      "Python Basic Assignment_Assignment_1.ipynb\n",
      "Python Basic Assignment_Assignment_10.ipynb\n",
      "Python Basic Assignment_Assignment_11.ipynb\n",
      "Python Basic Assignment_Assignment_12.ipynb\n",
      "Python Basic Assignment_Assignment_13.ipynb\n",
      "Python Basic Assignment_Assignment_14.ipynb\n",
      "Python Basic Assignment_Assignment_15.ipynb\n",
      "Python Basic Assignment_Assignment_16.ipynb\n",
      "Python Basic Assignment_Assignment_17.ipynb\n",
      "Python Basic Assignment_Assignment_18.ipynb\n",
      "Python Basic Assignment_Assignment_19.ipynb\n",
      "Python Basic Assignment_Assignment_2.ipynb\n",
      "Python Basic Assignment_Assignment_20.ipynb\n",
      "Python Basic Assignment_Assignment_21.ipynb\n",
      "Python Basic Assignment_Assignment_22.ipynb\n",
      "Python Basic Assignment_Assignment_23.ipynb\n",
      "Python Basic Assignment_Assignment_24.ipynb\n",
      "Python Basic Assignment_Assignment_25.ipynb\n",
      "Python Basic Assignment_Assignment_3.ipynb\n",
      "Python Basic Assignment_Assignment_4.ipynb\n",
      "Python Basic Assignment_Assignment_5.ipynb\n",
      "Python Basic Assignment_Assignment_6.ipynb\n",
      "Python Basic Assignment_Assignment_7.ipynb\n",
      "Python Basic Assignment_Assignment_8.ipynb\n",
      "Python Basic Assignment_Assignment_9.ipynb\n",
      "test.txt\n",
      "today.txt\n",
      "zoo.py\n",
      "Python Basic Assignment_Assignment_1-checkpoint.ipynb\n",
      "Python Basic Assignment_Assignment_10-checkpoint.ipynb\n",
      "Python Basic Assignment_Assignment_11-checkpoint.ipynb\n",
      "Python Basic Assignment_Assignment_12-checkpoint.ipynb\n",
      "Python Basic Assignment_Assignment_13-checkpoint.ipynb\n",
      "Python Basic Assignment_Assignment_14-checkpoint.ipynb\n",
      "Python Basic Assignment_Assignment_15-checkpoint.ipynb\n",
      "Python Basic Assignment_Assignment_16-checkpoint.ipynb\n",
      "Python Basic Assignment_Assignment_17-checkpoint.ipynb\n",
      "Python Basic Assignment_Assignment_18-checkpoint.ipynb\n",
      "Python Basic Assignment_Assignment_19-checkpoint.ipynb\n",
      "Python Basic Assignment_Assignment_2-checkpoint.ipynb\n",
      "Python Basic Assignment_Assignment_20-checkpoint.ipynb\n",
      "Python Basic Assignment_Assignment_21-checkpoint.ipynb\n",
      "Python Basic Assignment_Assignment_22-checkpoint.ipynb\n",
      "Python Basic Assignment_Assignment_23-checkpoint.ipynb\n",
      "Python Basic Assignment_Assignment_24-checkpoint.ipynb\n",
      "Python Basic Assignment_Assignment_25-checkpoint.ipynb\n",
      "Python Basic Assignment_Assignment_3-checkpoint.ipynb\n",
      "Python Basic Assignment_Assignment_4-checkpoint.ipynb\n",
      "Python Basic Assignment_Assignment_5-checkpoint.ipynb\n",
      "Python Basic Assignment_Assignment_6-checkpoint.ipynb\n",
      "Python Basic Assignment_Assignment_7-checkpoint.ipynb\n",
      "Python Basic Assignment_Assignment_8-checkpoint.ipynb\n",
      "Python Basic Assignment_Assignment_9-checkpoint.ipynb\n",
      "zoo.cpython-39.pyc\n"
     ]
    }
   ],
   "source": [
    "import os\n",
    "for folders, subfolders, files in os.walk(os.getcwd()):\n",
    "    for file in files:\n",
    "        print(file)"
   ]
  },
  {
   "cell_type": "markdown",
   "id": "b818ea37",
   "metadata": {},
   "source": [
    "### 5. Create a list of all of the files in your parent directory (minimum five files should be available)."
   ]
  },
  {
   "cell_type": "code",
   "execution_count": 5,
   "id": "f49e9b25",
   "metadata": {},
   "outputs": [
    {
     "data": {
      "text/plain": [
       "['.ipynb_checkpoints',\n",
       " 'application_log.txt',\n",
       " 'books.csv',\n",
       " 'books.db',\n",
       " 'Python Basic Assignment_Assignment_1.ipynb',\n",
       " 'Python Basic Assignment_Assignment_10.ipynb',\n",
       " 'Python Basic Assignment_Assignment_11.ipynb',\n",
       " 'Python Basic Assignment_Assignment_12.ipynb',\n",
       " 'Python Basic Assignment_Assignment_13.ipynb',\n",
       " 'Python Basic Assignment_Assignment_14.ipynb',\n",
       " 'Python Basic Assignment_Assignment_15.ipynb',\n",
       " 'Python Basic Assignment_Assignment_16.ipynb',\n",
       " 'Python Basic Assignment_Assignment_17.ipynb',\n",
       " 'Python Basic Assignment_Assignment_18.ipynb',\n",
       " 'Python Basic Assignment_Assignment_19.ipynb',\n",
       " 'Python Basic Assignment_Assignment_2.ipynb',\n",
       " 'Python Basic Assignment_Assignment_20.ipynb',\n",
       " 'Python Basic Assignment_Assignment_21.ipynb',\n",
       " 'Python Basic Assignment_Assignment_22.ipynb',\n",
       " 'Python Basic Assignment_Assignment_23.ipynb',\n",
       " 'Python Basic Assignment_Assignment_24.ipynb',\n",
       " 'Python Basic Assignment_Assignment_25.ipynb',\n",
       " 'Python Basic Assignment_Assignment_3.ipynb',\n",
       " 'Python Basic Assignment_Assignment_4.ipynb',\n",
       " 'Python Basic Assignment_Assignment_5.ipynb',\n",
       " 'Python Basic Assignment_Assignment_6.ipynb',\n",
       " 'Python Basic Assignment_Assignment_7.ipynb',\n",
       " 'Python Basic Assignment_Assignment_8.ipynb',\n",
       " 'Python Basic Assignment_Assignment_9.ipynb',\n",
       " 'test.txt',\n",
       " 'today.txt',\n",
       " 'zoo.py',\n",
       " '__pycache__']"
      ]
     },
     "execution_count": 5,
     "metadata": {},
     "output_type": "execute_result"
    }
   ],
   "source": [
    "import os \n",
    "os.listdir()"
   ]
  },
  {
   "cell_type": "markdown",
   "id": "19f9d1d6",
   "metadata": {},
   "source": [
    "### 6. Use multiprocessing to create three separate processes. Make each one wait a random number of seconds between one and five, print the current time, and then exit."
   ]
  },
  {
   "cell_type": "code",
   "execution_count": 6,
   "id": "79695c82",
   "metadata": {},
   "outputs": [],
   "source": [
    "import multiprocessing\n",
    "import time \n",
    "import random\n",
    "import datetime\n",
    "\n",
    "def procOne():\n",
    "    print(f'Proc_one_Starttime -> {datetime.datetime.now()}')\n",
    "    time.sleep(random.randint(1,5))\n",
    "    print(f'Proc_one_Endtime -> {datetime.datetime.now()}')\n",
    "    \n",
    "def procTwo():\n",
    "    print(f'Proc_two_Starttime -> {datetime.datetime.now()}')\n",
    "    time.sleep(random.randint(1,5))\n",
    "    print(f'Proc_two_Endtime -> {datetime.datetime.now()}')\n",
    "\n",
    "def procThree():\n",
    "    print(f'Proc_two_Starttime -> {datetime.datetime.now()}')\n",
    "    time.sleep(random.randint(1,5))\n",
    "    print(f'Proc_two_Endtime -> {datetime.datetime.now()}')\n",
    "    \n",
    "if __name__ == \"__main__\":    \n",
    "    p1 = multiprocessing.Process(target=procOne)\n",
    "    p2 = multiprocessing.Process(target=procTwo)\n",
    "    p3 = multiprocessing.Process(target=procThree)\n",
    "\n",
    "    p1.start()\n",
    "    p2.start()\n",
    "    p3.start()\n",
    "\n",
    "    p1.join()\n",
    "    p2.join()\n",
    "    p3.join()"
   ]
  },
  {
   "cell_type": "markdown",
   "id": "4bc37cec",
   "metadata": {},
   "source": [
    "### 7. Create a date object of your day of birth."
   ]
  },
  {
   "cell_type": "code",
   "execution_count": 7,
   "id": "2f4f43eb",
   "metadata": {},
   "outputs": [
    {
     "name": "stdout",
     "output_type": "stream",
     "text": [
      "1997-04-22 00:00:00 <class 'datetime.datetime'>\n"
     ]
    }
   ],
   "source": [
    "from datetime import datetime\n",
    "my_dob = datetime.strptime('22/04/1997','%d/%m/%Y')\n",
    "print(my_dob, type(my_dob))"
   ]
  },
  {
   "cell_type": "markdown",
   "id": "17464bae",
   "metadata": {},
   "source": [
    "### 8. What day of the week was your day of birth?"
   ]
  },
  {
   "cell_type": "code",
   "execution_count": 8,
   "id": "6c41f5cb",
   "metadata": {},
   "outputs": [
    {
     "data": {
      "text/plain": [
       "'Sunday'"
      ]
     },
     "execution_count": 8,
     "metadata": {},
     "output_type": "execute_result"
    }
   ],
   "source": [
    "from datetime import datetime\n",
    "my_dob = datetime(1947,1,26)\n",
    "my_dob.strftime(\"%A\")"
   ]
  },
  {
   "cell_type": "markdown",
   "id": "c54aaf2c",
   "metadata": {},
   "source": [
    "### 9. When will you be (or when were you) 10,000 days old?"
   ]
  },
  {
   "cell_type": "code",
   "execution_count": 9,
   "id": "5719173e",
   "metadata": {},
   "outputs": [
    {
     "data": {
      "text/plain": [
       "datetime.datetime(1969, 12, 5, 0, 0)"
      ]
     },
     "execution_count": 9,
     "metadata": {},
     "output_type": "execute_result"
    }
   ],
   "source": [
    "from datetime import datetime, timedelta\n",
    "my_dob = datetime.strptime(\"22/04/1997\",'%d/%m/%Y')\n",
    "future_date = my_dob-timedelta(10000)\n",
    "future_date"
   ]
  }
 ],
 "metadata": {
  "kernelspec": {
   "display_name": "Python 3 (ipykernel)",
   "language": "python",
   "name": "python3"
  },
  "language_info": {
   "codemirror_mode": {
    "name": "ipython",
    "version": 3
   },
   "file_extension": ".py",
   "mimetype": "text/x-python",
   "name": "python",
   "nbconvert_exporter": "python",
   "pygments_lexer": "ipython3",
   "version": "3.9.7"
  }
 },
 "nbformat": 4,
 "nbformat_minor": 5
}
