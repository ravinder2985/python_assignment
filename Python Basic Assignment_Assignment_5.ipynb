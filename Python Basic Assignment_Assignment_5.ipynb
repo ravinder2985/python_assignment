{
 "cells": [
  {
   "cell_type": "markdown",
   "id": "fa3c506b",
   "metadata": {},
   "source": [
    "## 1. What does an empty dictionary's code look like?"
   ]
  },
  {
   "cell_type": "code",
   "execution_count": 1,
   "id": "9b29533a",
   "metadata": {},
   "outputs": [],
   "source": [
    "# To create an empty dictionary, the dictionary should be set to {}.\n",
    "# This is shown in the code below\n",
    "\n",
    "items = {} \n",
    "# OR \n",
    "items= dict()"
   ]
  },
  {
   "cell_type": "markdown",
   "id": "9143640c",
   "metadata": {},
   "source": [
    "## 2. What is the value of a dictionary value with the key 'foo' and the value 42?"
   ]
  },
  {
   "cell_type": "code",
   "execution_count": 2,
   "id": "1cbce36a",
   "metadata": {},
   "outputs": [
    {
     "data": {
      "text/plain": [
       "{'foo': 42}"
      ]
     },
     "execution_count": 2,
     "metadata": {},
     "output_type": "execute_result"
    }
   ],
   "source": [
    "# value should be as below\n",
    "\n",
    "{'foo':42}"
   ]
  },
  {
   "cell_type": "markdown",
   "id": "ec14a21b",
   "metadata": {},
   "source": [
    "## 3. What is the most significant distinction between a dictionary and a list?"
   ]
  },
  {
   "cell_type": "code",
   "execution_count": null,
   "id": "6f553d59",
   "metadata": {},
   "outputs": [],
   "source": [
    "\"\"\"\n",
    "The list is an ordered collection of data, whereas the dictionaries store the data in the form of \n",
    "key-value pairs using the hashtable structure. Due to this, fetching the elements from the list data structure \n",
    "is quite complex compared to dictionaries in Python. Therefore, the dictionary is faster than a list in Python\n",
    "\"\"\""
   ]
  },
  {
   "cell_type": "markdown",
   "id": "478b26b1",
   "metadata": {},
   "source": [
    "## 4. What happens if you try to access spam['foo'] if spam is {'bar': 100}?"
   ]
  },
  {
   "cell_type": "code",
   "execution_count": 4,
   "id": "f5f62062",
   "metadata": {},
   "outputs": [
    {
     "ename": "KeyError",
     "evalue": "'foo'",
     "output_type": "error",
     "traceback": [
      "\u001b[1;31m---------------------------------------------------------------------------\u001b[0m",
      "\u001b[1;31mKeyError\u001b[0m                                  Traceback (most recent call last)",
      "\u001b[1;32m~\\AppData\\Local\\Temp/ipykernel_16028/4026577702.py\u001b[0m in \u001b[0;36m<module>\u001b[1;34m\u001b[0m\n\u001b[0;32m      1\u001b[0m \u001b[0mspam\u001b[0m \u001b[1;33m=\u001b[0m \u001b[1;33m{\u001b[0m\u001b[1;34m'bar'\u001b[0m\u001b[1;33m:\u001b[0m\u001b[1;36m100\u001b[0m\u001b[1;33m}\u001b[0m\u001b[1;33m\u001b[0m\u001b[1;33m\u001b[0m\u001b[0m\n\u001b[1;32m----> 2\u001b[1;33m \u001b[0mspam\u001b[0m\u001b[1;33m[\u001b[0m\u001b[1;34m'foo'\u001b[0m\u001b[1;33m]\u001b[0m\u001b[1;33m\u001b[0m\u001b[1;33m\u001b[0m\u001b[0m\n\u001b[0m",
      "\u001b[1;31mKeyError\u001b[0m: 'foo'"
     ]
    }
   ],
   "source": [
    "# it will give key error. See example below\n",
    "spam = {'bar':100}\n",
    "spam['foo']"
   ]
  },
  {
   "cell_type": "markdown",
   "id": "a58f0bbf",
   "metadata": {},
   "source": [
    "## 5. If a dictionary is stored in spam, what is the difference between the expressions 'cat' in spam and 'cat' in spam.keys()?"
   ]
  },
  {
   "cell_type": "code",
   "execution_count": null,
   "id": "a01d8693",
   "metadata": {},
   "outputs": [],
   "source": [
    "\"\"\"\n",
    "There is no difference. The in operator checks whether a value exists as a key in the dictionary. \n",
    "'cat' in spam checks whether there is a 'cat' key in the dictionary, while 'cat' in spam. values() checks whether \n",
    "there is a value 'cat' for one of the keys in spam\n",
    "\"\"\""
   ]
  },
  {
   "cell_type": "markdown",
   "id": "5cc6c0a9",
   "metadata": {},
   "source": [
    "## 6. If a dictionary is stored in spam, what is the difference between the expressions 'cat' in spam and 'cat' in spam.values()?"
   ]
  },
  {
   "cell_type": "code",
   "execution_count": null,
   "id": "fe64b5cc",
   "metadata": {},
   "outputs": [],
   "source": [
    "\"\"\"\n",
    "There is no difference. The in operator checks whether a value exists as a key in the dictionary. 'cat' in spam \n",
    "checks whether there is a 'cat' key in the dictionary, while 'cat' in spam. values() checks whether there is a \n",
    "value 'cat' for one of the keys in spam \n",
    "\"\"\""
   ]
  },
  {
   "cell_type": "markdown",
   "id": "a41561f7",
   "metadata": {},
   "source": [
    "## 7. What is a shortcut for the following code?\n",
    "#### if 'color' not in spam:\n",
    "#### spam['color'] = 'black'\n"
   ]
  },
  {
   "cell_type": "code",
   "execution_count": 5,
   "id": "4dd586ee",
   "metadata": {},
   "outputs": [
    {
     "data": {
      "text/plain": [
       "{'car': 'audi', 'color': 'black'}"
      ]
     },
     "execution_count": 5,
     "metadata": {},
     "output_type": "execute_result"
    }
   ],
   "source": [
    "# it will insert a new key and value at the end of the dictionary. See code below\n",
    "spam = {'car':'audi'}\n",
    "spam['color']='black'\n",
    "spam"
   ]
  },
  {
   "cell_type": "markdown",
   "id": "cf8c3d7c",
   "metadata": {},
   "source": [
    "## 8. How do you \"pretty print\" dictionary values using which module and function?"
   ]
  },
  {
   "cell_type": "code",
   "execution_count": 6,
   "id": "7ecd81f8",
   "metadata": {},
   "outputs": [],
   "source": [
    "# we need to import pprint module and need to use pprint.PrettyPrinter() function or pprint. pformat()"
   ]
  }
 ],
 "metadata": {
  "kernelspec": {
   "display_name": "Python 3 (ipykernel)",
   "language": "python",
   "name": "python3"
  },
  "language_info": {
   "codemirror_mode": {
    "name": "ipython",
    "version": 3
   },
   "file_extension": ".py",
   "mimetype": "text/x-python",
   "name": "python",
   "nbconvert_exporter": "python",
   "pygments_lexer": "ipython3",
   "version": "3.9.7"
  }
 },
 "nbformat": 4,
 "nbformat_minor": 5
}
