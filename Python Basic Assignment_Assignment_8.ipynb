{
 "cells": [
  {
   "cell_type": "markdown",
   "id": "fa3c506b",
   "metadata": {},
   "source": [
    "## 1. Is the Python Standard Library included with PyInputPlus?"
   ]
  },
  {
   "cell_type": "code",
   "execution_count": null,
   "id": "9b29533a",
   "metadata": {},
   "outputs": [],
   "source": [
    "# Ans: PyInputPlus is not a part of the Python Standard Library, we must install it separately using Pip"
   ]
  },
  {
   "cell_type": "markdown",
   "id": "9143640c",
   "metadata": {},
   "source": [
    "## 2. Why is PyInputPlus commonly imported with import pyinputplus as pypi?"
   ]
  },
  {
   "cell_type": "code",
   "execution_count": null,
   "id": "1cbce36a",
   "metadata": {},
   "outputs": [],
   "source": [
    "# Ans: You can import the module with import pyinputplus as pyip so that you can enter a shorter name when calling the \n",
    "# module’s functions"
   ]
  },
  {
   "cell_type": "markdown",
   "id": "ec14a21b",
   "metadata": {},
   "source": [
    "## 3. How do you distinguish between inputInt() and inputFloat()?"
   ]
  },
  {
   "cell_type": "code",
   "execution_count": null,
   "id": "6f553d59",
   "metadata": {},
   "outputs": [],
   "source": [
    "# Ans: The difference is in the data-type when you use the first one the program expects an integer value as \n",
    "# input but in the latter it expects a float value i.e number containing a decimal"
   ]
  },
  {
   "cell_type": "markdown",
   "id": "478b26b1",
   "metadata": {},
   "source": [
    "## 4. Using PyInputPlus, how do you ensure that the user enters a whole number between 0 and 99?"
   ]
  },
  {
   "cell_type": "code",
   "execution_count": null,
   "id": "f5f62062",
   "metadata": {},
   "outputs": [],
   "source": [
    "# Ans: By using pyip.inputint(min=0, max=99)"
   ]
  },
  {
   "cell_type": "markdown",
   "id": "a58f0bbf",
   "metadata": {},
   "source": [
    "## 5. What is transferred to the keyword arguments allowRegexes and blockRegexes?"
   ]
  },
  {
   "cell_type": "code",
   "execution_count": null,
   "id": "a01d8693",
   "metadata": {},
   "outputs": [],
   "source": [
    "# Ans: A list of regex strings that are either explicitly allowed or denied"
   ]
  },
  {
   "cell_type": "markdown",
   "id": "5cc6c0a9",
   "metadata": {},
   "source": [
    "## 6. If a blank input is entered three times, what does inputStr(limit=3) do?"
   ]
  },
  {
   "cell_type": "code",
   "execution_count": null,
   "id": "fe64b5cc",
   "metadata": {},
   "outputs": [],
   "source": [
    "# Ans: The function will raise RetryLimitException."
   ]
  },
  {
   "cell_type": "markdown",
   "id": "a41561f7",
   "metadata": {},
   "source": [
    "## 7. If blank input is entered three times, what does inputStr(limit=3, default='hello') do?"
   ]
  },
  {
   "cell_type": "code",
   "execution_count": null,
   "id": "4dd586ee",
   "metadata": {},
   "outputs": [],
   "source": [
    "# Ans: . The function returns the value 'hello'"
   ]
  }
 ],
 "metadata": {
  "kernelspec": {
   "display_name": "Python 3 (ipykernel)",
   "language": "python",
   "name": "python3"
  },
  "language_info": {
   "codemirror_mode": {
    "name": "ipython",
    "version": 3
   },
   "file_extension": ".py",
   "mimetype": "text/x-python",
   "name": "python",
   "nbconvert_exporter": "python",
   "pygments_lexer": "ipython3",
   "version": "3.9.7"
  }
 },
 "nbformat": 4,
 "nbformat_minor": 5
}
