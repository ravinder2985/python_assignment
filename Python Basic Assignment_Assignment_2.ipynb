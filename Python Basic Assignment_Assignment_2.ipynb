{
 "cells": [
  {
   "cell_type": "markdown",
   "id": "27fe7ab7",
   "metadata": {},
   "source": [
    "# Python Basic Assignment_Assignment_2"
   ]
  },
  {
   "cell_type": "markdown",
   "id": "7bb49855",
   "metadata": {},
   "source": [
    "### Q 1. What are the two values of the Boolean data type? How do you write them?"
   ]
  },
  {
   "cell_type": "code",
   "execution_count": 1,
   "id": "3760365b",
   "metadata": {},
   "outputs": [
    {
     "data": {
      "text/plain": [
       "bool"
      ]
     },
     "execution_count": 1,
     "metadata": {},
     "output_type": "execute_result"
    }
   ],
   "source": [
    "#there are two type of boolean data type in python\n",
    "# 1 True\n",
    "# 2 False, and we can check as per below code\n",
    "a=True\n",
    "b=False\n",
    "type(a)\n",
    "type(b)"
   ]
  },
  {
   "cell_type": "markdown",
   "id": "27188c6d",
   "metadata": {},
   "source": [
    "### Q 2. What are the three different types of Boolean operators?"
   ]
  },
  {
   "cell_type": "code",
   "execution_count": null,
   "id": "b3f19d39",
   "metadata": {},
   "outputs": [],
   "source": [
    "#Boolean operators are AND, OR, NOT"
   ]
  },
  {
   "cell_type": "markdown",
   "id": "af32abc0",
   "metadata": {},
   "source": [
    "### Q 3. Make a list of each Boolean operator's truth tables (i.e. every possible combination of Boolean values for the operator and what it evaluate )."
   ]
  },
  {
   "cell_type": "code",
   "execution_count": null,
   "id": "59e09fea",
   "metadata": {},
   "outputs": [],
   "source": [
    "# truth table of \"AND\"\n",
    "\n",
    "# True True = True\n",
    "# True False = False\n",
    "# False False = False\n",
    "# False True = False\n",
    "\n",
    "#truth table of \"OR\"\n",
    "\n",
    "# True True = True\n",
    "# True False = True\n",
    "# False False = False\n",
    "# False True = True\n",
    "\n",
    "# truth table of \"NOT\"\n",
    "\n",
    "#True = False\n",
    "# False = True"
   ]
  },
  {
   "cell_type": "markdown",
   "id": "37e0fa77",
   "metadata": {},
   "source": [
    "### Q 4. What are the values of the following expressions?\n",
    "\n",
    "(5 > 4) and (3 == 5)\n",
    "not (5 > 4)\n",
    "(5 > 4) or (3 == 5)\n",
    "not ((5 > 4) or (3 == 5))\n",
    "(True and True) and (True == False)\n",
    "(not False) or (not True)"
   ]
  },
  {
   "cell_type": "code",
   "execution_count": null,
   "id": "f96ca96c",
   "metadata": {},
   "outputs": [],
   "source": [
    "# (5 > 4) and (3 == 5) = False\n",
    "# not (5 > 4) = False\n",
    "# (5 > 4) or (3 == 5) = True\n",
    "# not ((5 > 4) or (3 == 5)) = False\n",
    "# (True and True) and (True == False) = False\n",
    "# (not False) or (not True) = True"
   ]
  },
  {
   "cell_type": "markdown",
   "id": "2aaeaf12",
   "metadata": {},
   "source": [
    "###  Q 5. What are the six comparison operators?"
   ]
  },
  {
   "cell_type": "code",
   "execution_count": null,
   "id": "9458a5ca",
   "metadata": {},
   "outputs": [],
   "source": [
    "# Below are the six comparison operators:\n",
    "\n",
    "# 1) > Greater than: True if the left operand is greater than the right i.e x > y\n",
    "# 2) < Less than: True if the left operand is less than the right i.e. x < y\n",
    "# 3) == Equal to: True if both operands are equal i.e. x == y\n",
    "# 4) !=Not equal to – True if operands are not equal i.e x != y\n",
    "# 5) >=Greater than or equal to: True if left operand is greater than or equal to the right i.e. x >= y\n",
    "# 6) <=Less than or equal to: True if left operand is less than or equal to the right i.e. x <= y"
   ]
  },
  {
   "cell_type": "markdown",
   "id": "360d0292",
   "metadata": {},
   "source": [
    "### Q 6. How do you tell the difference between the equal to and assignment operators?Describe a condition and when you would use one."
   ]
  },
  {
   "cell_type": "code",
   "execution_count": null,
   "id": "8220647b",
   "metadata": {},
   "outputs": [],
   "source": [
    "# Answer: for \"Equal to\" operator, we use doubt equal sign whereas for \"Assignment\" operator we use single equal sign.\n",
    "# We can understand the difference by below scenarios:\n",
    "\n",
    "#if we need to assign 10 to a variable, we use assignment operator\n",
    "a=10\n",
    "\n",
    "#if we need to check the value is equal to condition, we use equal to operator\n",
    "if type(a)==int:\n",
    "    print(\"this is integer\")"
   ]
  },
  {
   "cell_type": "markdown",
   "id": "788c5b80",
   "metadata": {},
   "source": [
    "### Q 7. Identify the three blocks in this code:\n",
    "spam = 0\n",
    "if spam == 10:\n",
    "print('eggs')\n",
    "if spam > 5:\n",
    "print('bacon')\n",
    "else:\n",
    "print('ham')\n",
    "print('spam')\n",
    "print('spam')"
   ]
  },
  {
   "cell_type": "code",
   "execution_count": null,
   "id": "279f7505",
   "metadata": {},
   "outputs": [],
   "source": [
    "# First block\n",
    "print('eggs')\n",
    "\n",
    "#second block\n",
    "print('bacon')\n",
    "\n",
    "#Third block\n",
    "print('ham')\n",
    "print('spam')\n",
    "print('spam')"
   ]
  },
  {
   "cell_type": "markdown",
   "id": "58f97231",
   "metadata": {},
   "source": [
    "### Q 8. Write code that prints Hello if 1 is stored in spam, prints Howdy if 2 is stored in spam, and prints Greetings! if anything else is stored in spam."
   ]
  },
  {
   "cell_type": "code",
   "execution_count": 10,
   "id": "685bf3df",
   "metadata": {},
   "outputs": [
    {
     "name": "stdout",
     "output_type": "stream",
     "text": [
      "Greetings\n"
     ]
    }
   ],
   "source": [
    "#Program to answer qustion 8\n",
    "spam=3\n",
    "if spam==1:\n",
    "    print(\"Hello\")\n",
    "elif spam ==2:\n",
    "    print(\"Howdy\")\n",
    "else:\n",
    "    print(\"Greetings\")"
   ]
  },
  {
   "cell_type": "markdown",
   "id": "42aacf36",
   "metadata": {},
   "source": [
    "### Q 9. If your programme is stuck in an endless loop, what keys you’ll press?"
   ]
  },
  {
   "cell_type": "code",
   "execution_count": null,
   "id": "020eea03",
   "metadata": {},
   "outputs": [],
   "source": [
    "# We can exit from endless loop by pressing CTRL + C"
   ]
  },
  {
   "cell_type": "markdown",
   "id": "b16a190b",
   "metadata": {},
   "source": [
    "### Q 10. How can you tell the difference between break and continue?"
   ]
  },
  {
   "cell_type": "code",
   "execution_count": null,
   "id": "8de4769d",
   "metadata": {},
   "outputs": [],
   "source": [
    "# The Python break statement stops the loop in which the statement is placed. A Python continue statement skips a single \n",
    "# iteration in a loop. Both break and continue statements can be used in a for or a while loop"
   ]
  },
  {
   "cell_type": "markdown",
   "id": "50d10433",
   "metadata": {},
   "source": [
    "### Q 11.  In a for loop, what is the difference between range(10), range(0, 10), and range(0, 10, 1)?"
   ]
  },
  {
   "cell_type": "code",
   "execution_count": null,
   "id": "d2139543",
   "metadata": {},
   "outputs": [],
   "source": [
    "# In a for loop, all the statements are same\n",
    "# range(10) - we have define range of 10 numbers (excluding upper bound) which start from 0 to 9 by default steping 1\n",
    "# range(0,10) - defined range of 10 numbers start from 0 to 9 by default steping 1\n",
    "# range(0,10,1) - defined range of 10 numbers start from 0 to 9 steping 1"
   ]
  },
  {
   "cell_type": "markdown",
   "id": "6d493a36",
   "metadata": {},
   "source": [
    "### Q 12. Write a short program that prints the numbers 1 to 10 using a for loop. Then write an equivalent program that prints the numbers 1 to 10 using a while loop."
   ]
  },
  {
   "cell_type": "code",
   "execution_count": 12,
   "id": "56b35e76",
   "metadata": {},
   "outputs": [
    {
     "name": "stdout",
     "output_type": "stream",
     "text": [
      "1\n",
      "2\n",
      "3\n",
      "4\n",
      "5\n",
      "6\n",
      "7\n",
      "8\n",
      "9\n",
      "10\n"
     ]
    }
   ],
   "source": [
    "for i in range(1,11,1):\n",
    "    print(i)"
   ]
  },
  {
   "cell_type": "code",
   "execution_count": 14,
   "id": "1ec3ab00",
   "metadata": {},
   "outputs": [
    {
     "name": "stdout",
     "output_type": "stream",
     "text": [
      "1\n",
      "2\n",
      "3\n",
      "4\n",
      "5\n",
      "6\n",
      "7\n",
      "8\n",
      "9\n",
      "10\n"
     ]
    }
   ],
   "source": [
    "num=1\n",
    "while num<11:\n",
    "    print(num)\n",
    "    num+=1"
   ]
  },
  {
   "cell_type": "markdown",
   "id": "e262f999",
   "metadata": {},
   "source": [
    "### Q 13. If you had a function named bacon() inside a module named spam, how would you call it after importing spam?"
   ]
  },
  {
   "cell_type": "code",
   "execution_count": null,
   "id": "f95f28ff",
   "metadata": {},
   "outputs": [],
   "source": [
    "# spam.bacon()"
   ]
  }
 ],
 "metadata": {
  "kernelspec": {
   "display_name": "Python 3 (ipykernel)",
   "language": "python",
   "name": "python3"
  },
  "language_info": {
   "codemirror_mode": {
    "name": "ipython",
    "version": 3
   },
   "file_extension": ".py",
   "mimetype": "text/x-python",
   "name": "python",
   "nbconvert_exporter": "python",
   "pygments_lexer": "ipython3",
   "version": "3.9.7"
  }
 },
 "nbformat": 4,
 "nbformat_minor": 5
}
