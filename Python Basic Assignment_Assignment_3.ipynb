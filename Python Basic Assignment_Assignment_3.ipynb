{
 "cells": [
  {
   "cell_type": "markdown",
   "id": "fa3c506b",
   "metadata": {},
   "source": [
    "## 1. Why are functions advantageous to have in your programs?"
   ]
  },
  {
   "cell_type": "code",
   "execution_count": null,
   "id": "9b29533a",
   "metadata": {},
   "outputs": [],
   "source": [
    "# Functions make program easier to read. One has to write minimum code which make is shorter. Also, functions reduce the\n",
    "# need of duplicate code"
   ]
  },
  {
   "cell_type": "markdown",
   "id": "9143640c",
   "metadata": {},
   "source": [
    "## 2. When does the code in a function run: when it's specified or when it's called?"
   ]
  },
  {
   "cell_type": "code",
   "execution_count": null,
   "id": "1cbce36a",
   "metadata": {},
   "outputs": [],
   "source": [
    "# The code in a function executes when the function is called"
   ]
  },
  {
   "cell_type": "markdown",
   "id": "ec14a21b",
   "metadata": {},
   "source": [
    "## 3. What statement creates a function?"
   ]
  },
  {
   "cell_type": "code",
   "execution_count": null,
   "id": "6f553d59",
   "metadata": {},
   "outputs": [],
   "source": [
    "# def keywork is used to create a function with valid function name"
   ]
  },
  {
   "cell_type": "markdown",
   "id": "478b26b1",
   "metadata": {},
   "source": [
    "## 4. What is the difference between a function and a function call?"
   ]
  },
  {
   "cell_type": "code",
   "execution_count": null,
   "id": "f5f62062",
   "metadata": {},
   "outputs": [],
   "source": [
    "# function is a program to make a program easier and reusable where function call is using the existing function"
   ]
  },
  {
   "cell_type": "markdown",
   "id": "a58f0bbf",
   "metadata": {},
   "source": [
    "## 5. How many global scopes are there in a Python program? How many local scopes?"
   ]
  },
  {
   "cell_type": "code",
   "execution_count": null,
   "id": "a01d8693",
   "metadata": {},
   "outputs": [],
   "source": [
    "# It seems that python program is missing here in this question\n",
    "# but meaning wise, global variable are those which can be used by any program and local variable are those which defined\n",
    "# within the function and can be used only that perticular function"
   ]
  },
  {
   "cell_type": "markdown",
   "id": "5cc6c0a9",
   "metadata": {},
   "source": [
    "## 6. What happens to variables in a local scope when the function call returns?"
   ]
  },
  {
   "cell_type": "code",
   "execution_count": null,
   "id": "fe64b5cc",
   "metadata": {},
   "outputs": [],
   "source": []
  },
  {
   "cell_type": "markdown",
   "id": "a41561f7",
   "metadata": {},
   "source": [
    "## 7. What is the concept of a return value? Is it possible to have a return value in an expression?"
   ]
  },
  {
   "cell_type": "code",
   "execution_count": null,
   "id": "4dd586ee",
   "metadata": {},
   "outputs": [],
   "source": [
    "# A return is a value that a function returns to the calling script or function when it completes its task. \n",
    "# A return value can be any one of the four variable types: handle, integer, object, or string.\n",
    "\n",
    "# yes, it is possible to have a return value in an expression, for example, function can return sum of two integer i.e.\n",
    "# a=5, b=10, c = a+b\n",
    "# return c"
   ]
  },
  {
   "cell_type": "markdown",
   "id": "cf8c3d7c",
   "metadata": {},
   "source": [
    "## 8. If a function does not have a return statement, what is the return value of a call to that function?"
   ]
  },
  {
   "cell_type": "code",
   "execution_count": null,
   "id": "7ecd81f8",
   "metadata": {},
   "outputs": [],
   "source": [
    "# If return statement is omitted, Python will implicitly return a default value for you"
   ]
  },
  {
   "cell_type": "markdown",
   "id": "627470f8",
   "metadata": {},
   "source": [
    "## 9. How do you make a function variable refer to the global variable?"
   ]
  },
  {
   "cell_type": "code",
   "execution_count": null,
   "id": "ef7ac80d",
   "metadata": {},
   "outputs": [],
   "source": [
    "# Normally, when you create a variable inside a function, that variable is local, and can only be used inside that \n",
    "# function. To create a global variable inside a function, one can use the \"global\" keyword"
   ]
  },
  {
   "cell_type": "markdown",
   "id": "37124437",
   "metadata": {},
   "source": [
    "## 10. What is the data type of None?"
   ]
  },
  {
   "cell_type": "code",
   "execution_count": null,
   "id": "fb55cd64",
   "metadata": {},
   "outputs": [],
   "source": []
  },
  {
   "cell_type": "markdown",
   "id": "16b2f180",
   "metadata": {},
   "source": [
    "## 11. What does the sentence import areallyourpetsnamederic do?"
   ]
  },
  {
   "cell_type": "code",
   "execution_count": null,
   "id": "922a6dd3",
   "metadata": {},
   "outputs": [],
   "source": [
    "# None is used to define a null value or Null object in Python. It is not the same as an empty string, False, or a zero. \n",
    "# It is a data type of the class NoneType object."
   ]
  },
  {
   "cell_type": "markdown",
   "id": "53798148",
   "metadata": {},
   "source": [
    "## 12. If you had a bacon() feature in a spam module, what would you call it after importing spam?"
   ]
  },
  {
   "cell_type": "code",
   "execution_count": null,
   "id": "3cde9385",
   "metadata": {},
   "outputs": [],
   "source": [
    "# This function can be called with spam. bacon()"
   ]
  },
  {
   "cell_type": "markdown",
   "id": "baa44e9e",
   "metadata": {},
   "source": [
    "## 13. What can you do to save a programme from crashing if it encounters an error?"
   ]
  },
  {
   "cell_type": "code",
   "execution_count": null,
   "id": "414d6297",
   "metadata": {},
   "outputs": [],
   "source": [
    "# When it encounters an error, the control is passed to the except block, skipping the code in between. As seen in the \n",
    "# above code, we have moved our code inside a try and except statement. Try running the program and it should throw\n",
    "# an error message instead of crashing the program."
   ]
  },
  {
   "cell_type": "markdown",
   "id": "00c49753",
   "metadata": {},
   "source": [
    "## 14. What is the purpose of the try clause? What is the purpose of the except clause?"
   ]
  },
  {
   "cell_type": "code",
   "execution_count": null,
   "id": "2fba4e09",
   "metadata": {},
   "outputs": [],
   "source": [
    "# The try block lets you test a block of code for errors. The except block lets you handle the error. "
   ]
  }
 ],
 "metadata": {
  "kernelspec": {
   "display_name": "Python 3 (ipykernel)",
   "language": "python",
   "name": "python3"
  },
  "language_info": {
   "codemirror_mode": {
    "name": "ipython",
    "version": 3
   },
   "file_extension": ".py",
   "mimetype": "text/x-python",
   "name": "python",
   "nbconvert_exporter": "python",
   "pygments_lexer": "ipython3",
   "version": "3.9.7"
  }
 },
 "nbformat": 4,
 "nbformat_minor": 5
}
