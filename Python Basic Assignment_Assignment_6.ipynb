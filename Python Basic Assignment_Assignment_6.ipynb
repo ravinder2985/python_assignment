{
 "cells": [
  {
   "cell_type": "markdown",
   "id": "fa3c506b",
   "metadata": {},
   "source": [
    "## 1. What are escape characters, and how do you use them?"
   ]
  },
  {
   "cell_type": "code",
   "execution_count": null,
   "id": "9b29533a",
   "metadata": {},
   "outputs": [],
   "source": [
    "# below are the list of escape characters and their use\n",
    "Code\tResult\n",
    "\\'\tSingle Quote\n",
    "\\\\\tBackslash\n",
    "\\n\tNew Line\n",
    "\\r\tCarriage Return\n",
    "\\t\tTab\n",
    "\\b\tBackspace\n",
    "\\f\tForm Feed\n",
    "\\ooo\tOctal value\n",
    "\\xhh\tHex value"
   ]
  },
  {
   "cell_type": "markdown",
   "id": "9143640c",
   "metadata": {},
   "source": [
    "## 2. What do the escape characters n and t stand for?"
   ]
  },
  {
   "cell_type": "code",
   "execution_count": 3,
   "id": "1cbce36a",
   "metadata": {},
   "outputs": [
    {
     "name": "stdout",
     "output_type": "stream",
     "text": [
      "hello\n",
      "World\n",
      "hello\tWorld\n"
     ]
    }
   ],
   "source": [
    "# n stand for new line and t stands for tab. below is the example\n",
    "# \\n\tNew Line\n",
    "# \\t\tTab\n",
    "\n",
    "print(\"hello\\nWorld\")\n",
    "print('hello\\tWorld')"
   ]
  },
  {
   "cell_type": "markdown",
   "id": "ec14a21b",
   "metadata": {},
   "source": [
    "## 3. What is the way to include backslash characters in a string?"
   ]
  },
  {
   "cell_type": "code",
   "execution_count": null,
   "id": "6f553d59",
   "metadata": {},
   "outputs": [],
   "source": [
    "# To insert characters that are illegal in a string, use an escape character.An escape character is a backslash \\ followed\n",
    "# by the character you want to insert. see below example\n",
    "incorrect code: txt = \"We are the so-called \"Vikings\" from the north.\"\n",
    "correct code: txt = \"We are the so-called \\\"Vikings\\\" from the north.\""
   ]
  },
  {
   "cell_type": "markdown",
   "id": "478b26b1",
   "metadata": {},
   "source": [
    "## 4. The string \"Howl's Moving Castle\" is a correct value. Why isn't the single quote character in the word Howl's not escaped a problem?"
   ]
  },
  {
   "cell_type": "code",
   "execution_count": 4,
   "id": "f5f62062",
   "metadata": {},
   "outputs": [
    {
     "data": {
      "text/plain": [
       "\"Howl's Moving CAstle\""
      ]
     },
     "execution_count": 4,
     "metadata": {},
     "output_type": "execute_result"
    }
   ],
   "source": [
    "# The single quote in Howl's is fine because you've used double quotes to mark the beginning and end of the string\n",
    "\n",
    "\"Howl's Moving CAstle\""
   ]
  },
  {
   "cell_type": "markdown",
   "id": "a58f0bbf",
   "metadata": {},
   "source": [
    "## 5. How do you write a string of newlines if you don't want to use the n character?"
   ]
  },
  {
   "cell_type": "code",
   "execution_count": null,
   "id": "a01d8693",
   "metadata": {},
   "outputs": [],
   "source": [
    "# You can print strings without adding a new line with end = <character>, which <character> is the character \n",
    "# that will be used to separate the lines"
   ]
  },
  {
   "cell_type": "markdown",
   "id": "5cc6c0a9",
   "metadata": {},
   "source": [
    "## 6. What are the values of the given expressions?\n",
    "\n",
    "#### 'Hello, world!'[1]\n",
    "#### 'Hello, world!'[0:5]\n",
    "#### 'Hello, world!'[:5]\n",
    "#### 'Hello, world!'[3:]\n"
   ]
  },
  {
   "cell_type": "code",
   "execution_count": 10,
   "id": "879e3cf5",
   "metadata": {},
   "outputs": [],
   "source": [
    "# See the output below"
   ]
  },
  {
   "cell_type": "code",
   "execution_count": 9,
   "id": "fe64b5cc",
   "metadata": {},
   "outputs": [
    {
     "data": {
      "text/plain": [
       "'e'"
      ]
     },
     "execution_count": 9,
     "metadata": {},
     "output_type": "execute_result"
    }
   ],
   "source": [
    "# it will print value present at 1st index\n",
    "'Hello, world!'[1]"
   ]
  },
  {
   "cell_type": "code",
   "execution_count": 6,
   "id": "da687ac8",
   "metadata": {},
   "outputs": [
    {
     "data": {
      "text/plain": [
       "'Hello'"
      ]
     },
     "execution_count": 6,
     "metadata": {},
     "output_type": "execute_result"
    }
   ],
   "source": [
    "# it will print values of 0 till 4th index\n",
    "'Hello, world!'[0:5]"
   ]
  },
  {
   "cell_type": "code",
   "execution_count": 7,
   "id": "281b37e4",
   "metadata": {},
   "outputs": [
    {
     "data": {
      "text/plain": [
       "'Hello'"
      ]
     },
     "execution_count": 7,
     "metadata": {},
     "output_type": "execute_result"
    }
   ],
   "source": [
    "# it will print value from 0 to 4th index (default starting point is 0)\n",
    "'Hello, world!'[:5]"
   ]
  },
  {
   "cell_type": "code",
   "execution_count": 8,
   "id": "4b8ae86d",
   "metadata": {},
   "outputs": [
    {
     "data": {
      "text/plain": [
       "'lo, world!'"
      ]
     },
     "execution_count": 8,
     "metadata": {},
     "output_type": "execute_result"
    }
   ],
   "source": [
    "# it will print value starting from 3 to end\n",
    "'Hello, world!'[3:]"
   ]
  },
  {
   "cell_type": "markdown",
   "id": "a41561f7",
   "metadata": {},
   "source": [
    "## 7. What are the values of the following expressions?\n",
    "\n",
    "#### 'Hello'.upper()\n",
    "#### 'Hello'.upper().isupper()\n",
    "#### 'Hello'.upper().lower()\n"
   ]
  },
  {
   "cell_type": "code",
   "execution_count": 11,
   "id": "4dd586ee",
   "metadata": {},
   "outputs": [],
   "source": [
    "#See the output below"
   ]
  },
  {
   "cell_type": "code",
   "execution_count": 12,
   "id": "50308c53",
   "metadata": {},
   "outputs": [
    {
     "data": {
      "text/plain": [
       "'HELLO'"
      ]
     },
     "execution_count": 12,
     "metadata": {},
     "output_type": "execute_result"
    }
   ],
   "source": [
    "# convert the string into upper case\n",
    "'Hello'.upper()"
   ]
  },
  {
   "cell_type": "code",
   "execution_count": 13,
   "id": "713e5e42",
   "metadata": {},
   "outputs": [
    {
     "data": {
      "text/plain": [
       "True"
      ]
     },
     "execution_count": 13,
     "metadata": {},
     "output_type": "execute_result"
    }
   ],
   "source": [
    "# convert the string into upper case and then check if the string is in upper case\n",
    "'Hello'.upper().isupper()"
   ]
  },
  {
   "cell_type": "code",
   "execution_count": 14,
   "id": "52527feb",
   "metadata": {},
   "outputs": [
    {
     "data": {
      "text/plain": [
       "'hello'"
      ]
     },
     "execution_count": 14,
     "metadata": {},
     "output_type": "execute_result"
    }
   ],
   "source": [
    "# convert the string into upper case and then lower case\n",
    "'Hello'.upper().lower()"
   ]
  },
  {
   "cell_type": "markdown",
   "id": "cf8c3d7c",
   "metadata": {},
   "source": [
    "## 8. What are the values of the following expressions?\n",
    "\n",
    "#### 'Remember, remember, the fifth of July.'.split()\n",
    "#### '-'.join('There can only one.'.split())\n"
   ]
  },
  {
   "cell_type": "code",
   "execution_count": 17,
   "id": "7ecd81f8",
   "metadata": {},
   "outputs": [
    {
     "data": {
      "text/plain": [
       "['Remember,', 'remember,', 'the', 'fifth', 'of', 'July.']"
      ]
     },
     "execution_count": 17,
     "metadata": {},
     "output_type": "execute_result"
    }
   ],
   "source": [
    "# below code split the string based on space (default value) and save into a list\n",
    "'Remember, remember, the fifth of July.'.split()"
   ]
  },
  {
   "cell_type": "code",
   "execution_count": 19,
   "id": "4af0719c",
   "metadata": {},
   "outputs": [
    {
     "data": {
      "text/plain": [
       "'There-can-only-one.'"
      ]
     },
     "execution_count": 19,
     "metadata": {},
     "output_type": "execute_result"
    }
   ],
   "source": [
    "# below code split the text based on space and again join based on '-'\n",
    "'-'.join('There can only one.'.split())"
   ]
  },
  {
   "cell_type": "markdown",
   "id": "627470f8",
   "metadata": {},
   "source": [
    "## 9. What are the methods for right-justifying, left-justifying, and centering a string?"
   ]
  },
  {
   "cell_type": "code",
   "execution_count": null,
   "id": "ef7ac80d",
   "metadata": {},
   "outputs": [],
   "source": [
    "#see the use of these functions\n",
    "\n",
    "\"\"\"\n",
    "center() - This function center aligns the string according to the width specified and fills remaining space of line \n",
    "with blank space if ‘ fillchr ‘ argument is not passed.\n",
    "\n",
    "ljust() - This function left aligns the string according to the width specified and fills remaining space of line \n",
    "with blank space if ‘ fillchr ‘ argument is not passed.\n",
    "\n",
    "rjust() - This function right aligns the string according to the width specified and fills remaining space of line \n",
    "with blank space if ‘ fillchr ‘ argument is not passed\n",
    "\n",
    "\"\"\""
   ]
  },
  {
   "cell_type": "markdown",
   "id": "37124437",
   "metadata": {},
   "source": [
    "## 10. What is the best way to remove whitespace characters from the start or end?"
   ]
  },
  {
   "cell_type": "code",
   "execution_count": null,
   "id": "fb55cd64",
   "metadata": {},
   "outputs": [],
   "source": [
    "# Use the . strip() method to remove whitespace and characters from the beginning and the end of a string.\n",
    "# OR\n",
    "#The trim() method will remove both leading and trailing whitespace from a string and return the result."
   ]
  }
 ],
 "metadata": {
  "kernelspec": {
   "display_name": "Python 3 (ipykernel)",
   "language": "python",
   "name": "python3"
  },
  "language_info": {
   "codemirror_mode": {
    "name": "ipython",
    "version": 3
   },
   "file_extension": ".py",
   "mimetype": "text/x-python",
   "name": "python",
   "nbconvert_exporter": "python",
   "pygments_lexer": "ipython3",
   "version": "3.9.7"
  }
 },
 "nbformat": 4,
 "nbformat_minor": 5
}
