{
 "cells": [
  {
   "cell_type": "markdown",
   "id": "419584c4",
   "metadata": {},
   "source": [
    "### 1. What is the relationship between def statements and lambda expressions ?"
   ]
  },
  {
   "cell_type": "code",
   "execution_count": null,
   "id": "65d01dbb",
   "metadata": {},
   "outputs": [],
   "source": [
    "\"\"\"\n",
    "Ans: def statement is used to create a normal function. where as lamba expressions are used to create Anonymous functions.\n",
    "which can be assigned to a variable and can be called using the variable later in function.\n",
    "\n",
    "Lambda's body is a single expression and not a block of statements like def statement. The lambda expression's body is \n",
    "similar to what we'd put in a def body's return statement. We simply type the result as an expression instead of explicitly returning it. Because it is limited to an expression, a lambda is less general than a def statement.\n",
    "\n",
    "\"\"\""
   ]
  },
  {
   "cell_type": "markdown",
   "id": "e1262589",
   "metadata": {},
   "source": [
    "### 2. What is the benefit of lambda?"
   ]
  },
  {
   "cell_type": "code",
   "execution_count": null,
   "id": "eadbbd9d",
   "metadata": {},
   "outputs": [],
   "source": [
    "\"\"\"Ans: The following are some of the benefits of lambda expressions:\n",
    "1.\tCan be used to create Nameless/Anonymous functions inside some complex functions if we are planning to use it only once.\n",
    "2.\tModerate to small functions can be created in a single line\n",
    "3.\tFuctions created using lambda expressions can be assigned to a variable and can be used by simply calling the variable\n",
    "\"\"\""
   ]
  },
  {
   "cell_type": "markdown",
   "id": "fd2aca70",
   "metadata": {},
   "source": [
    "### 3. Compare and contrast map, filter, and reduce."
   ]
  },
  {
   "cell_type": "code",
   "execution_count": 1,
   "id": "f865feba",
   "metadata": {},
   "outputs": [
    {
     "name": "stdout",
     "output_type": "stream",
     "text": [
      "Map -> [2, 4, 6, 8]\n",
      "Filter -> [1, 3]\n",
      "Reduce -> 21\n"
     ]
    }
   ],
   "source": [
    "\"\"\"\n",
    "Ans: The differences between map, filter and reduce are:\n",
    "\n",
    "1.\tmap(): The map() function is a type of higher-order. This function takes another function as a parameter\n",
    "along with a sequence of iterables and returns an output after applying the function to each iterable present in the \n",
    "sequence. \n",
    "\n",
    "2. filter(): The filter() function is used to create an output list consisting of values for which the function returns \n",
    "true. \n",
    "\n",
    "3. reduce(): The reduce() function, as the name describes, applies a given function to the iterables and returns a single value\n",
    "\n",
    "\"\"\"\n",
    "\n",
    "from functools import reduce\n",
    "# map function\n",
    "print('Map ->',list(map(lambda x:x+x, [1,2,3,4])))\n",
    "# fitler function\n",
    "print('Filter ->',list(filter(lambda x:x%2 !=0, [1,2,3,4])))\n",
    "# reduce function\n",
    "print('Reduce ->',reduce(lambda x,y:x+y, [1,2,3,4,5,6]))\n"
   ]
  },
  {
   "cell_type": "markdown",
   "id": "4e796918",
   "metadata": {},
   "source": [
    "### 4. What are function annotations, and how are they used?"
   ]
  },
  {
   "cell_type": "code",
   "execution_count": null,
   "id": "31d9877a",
   "metadata": {},
   "outputs": [],
   "source": [
    "\"\"\"\n",
    "Ans: Function annotations provide a way of associating various parts of a function with arbitrary pythoncexpressions at \n",
    "compile time.\n",
    "\n",
    "Annotations of simple parameters def func(x: expression, y: expression = 20): Whereas the annotations for excess \n",
    "parameters are as − def func (**args: expression, **kwargs: expression):\n",
    "\n",
    "\"\"\""
   ]
  },
  {
   "cell_type": "markdown",
   "id": "07b66f88",
   "metadata": {},
   "source": [
    "### 5. What are recursive functions, and how are they used?"
   ]
  },
  {
   "cell_type": "code",
   "execution_count": null,
   "id": "b4148eaa",
   "metadata": {},
   "outputs": [],
   "source": [
    "\"\"\"\n",
    "Ans: A recursive function is a function that calls itself during its execution. The process may repeat several times, \n",
    "outputting the result and the end of each iteration.\n",
    "\n",
    "\"\"\""
   ]
  },
  {
   "cell_type": "markdown",
   "id": "39da4461",
   "metadata": {},
   "source": [
    "### 6. What are some general design guidelines for coding functions?"
   ]
  },
  {
   "cell_type": "code",
   "execution_count": null,
   "id": "f142a83e",
   "metadata": {},
   "outputs": [],
   "source": [
    "\"\"\"\n",
    "Ans: Some of the general design guidelines for coding functions are:\n",
    "1.\tAlways use a docstring to explain the functionality of the function\n",
    "2.\tavoid using or limited use of global variables\n",
    "3.\tProper Identation to increase the code readability\n",
    "4.\ttry to follow a naming convention for function names (pascalCase or camelCase) and stick with the same convention \n",
    "    throughout the application.\n",
    "5.\tAvoid using digits while choosing a variable name\n",
    "6.\ttry to use a name for the function which conveys the purpose of the function\n",
    "7.\tLocal variables should be named using camelCase format (ex: localVariable) whereas Global variables names should be \n",
    "    using PascalCase (ex:GlobalVariable).\n",
    "8.\tConstant should be represented in allcaps (ex:CONSTANT).\n",
    "\n",
    "\"\"\""
   ]
  },
  {
   "cell_type": "markdown",
   "id": "c9d5083a",
   "metadata": {},
   "source": [
    "### 7. Name three or more ways that functions can communicate results to a caller."
   ]
  },
  {
   "cell_type": "code",
   "execution_count": null,
   "id": "b755c9ab",
   "metadata": {},
   "outputs": [],
   "source": [
    "\"\"\"\n",
    "Ans: Some of the ways in which a function can communicate with the calling function is:\n",
    "1.\tprint\n",
    "2.\treturn\n",
    "3.\tyield\n",
    "\n",
    "\"\"\""
   ]
  }
 ],
 "metadata": {
  "kernelspec": {
   "display_name": "Python 3 (ipykernel)",
   "language": "python",
   "name": "python3"
  },
  "language_info": {
   "codemirror_mode": {
    "name": "ipython",
    "version": 3
   },
   "file_extension": ".py",
   "mimetype": "text/x-python",
   "name": "python",
   "nbconvert_exporter": "python",
   "pygments_lexer": "ipython3",
   "version": "3.9.7"
  }
 },
 "nbformat": 4,
 "nbformat_minor": 5
}
