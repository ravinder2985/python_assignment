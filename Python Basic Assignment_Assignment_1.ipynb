{
 "cells": [
  {
   "cell_type": "markdown",
   "id": "5374dfb0",
   "metadata": {},
   "source": [
    "# Q 1. In the below elements which of them are values or an expression? eg:- values can be integer or string and expressions \n",
    "will be mathematical operators.\n",
    "\n",
    "'hello'\n",
    "87.8\n",
    "/ \n",
    "6 "
   ]
  },
  {
   "cell_type": "code",
   "execution_count": null,
   "id": "bc258bcb",
   "metadata": {},
   "outputs": [],
   "source": [
    "#values = 'hello', 87.8 & 6\n",
    "#expressions = /"
   ]
  },
  {
   "cell_type": "markdown",
   "id": "6165ac4e",
   "metadata": {},
   "source": [
    "# Q 2. What is the difference between string and variable?"
   ]
  },
  {
   "cell_type": "code",
   "execution_count": null,
   "id": "a6bd7a28",
   "metadata": {},
   "outputs": [],
   "source": [
    "# A variable is something that holds a value that may change. In simplest terms, a variable is just a box that you can put stuff in. You can use variables to store all kinds of stuff, but for now, we are just going to look at storing numbers in variables.\n",
    "\n",
    "# num = 7\n",
    "# print (num)\n",
    "# 7\n",
    "# This code creates a variable called num, and assigns to it the integer number 7. When we ask Python to tell us what is stored in the variable num, it returns that number again.\n",
    "\n",
    "# A 'string' is simply a list of characters in order. A character is anything you can type on the keyboard in one keystroke, like a letter, a number, or a backslash. For example, \"hello\" is a string\n",
    "\n",
    "# There are three ways you can declare a string in Python: single quotes ('), double quotes (\"), and triple quotes (\"\"\").\n"
   ]
  },
  {
   "cell_type": "markdown",
   "id": "299be3e5",
   "metadata": {},
   "source": [
    "# Q 3. Describe three different data types."
   ]
  },
  {
   "cell_type": "code",
   "execution_count": null,
   "id": "41f70831",
   "metadata": {},
   "outputs": [],
   "source": [
    "# Python supports three categories of data types:\n",
    "\n",
    "# Basic Type - int, float, complex, bool, string, bytes\n",
    "# Container Type - list, tuple, set, dict\n",
    "# User Defined - Class\n"
   ]
  },
  {
   "cell_type": "markdown",
   "id": "a252e5fa",
   "metadata": {},
   "source": [
    "# Q 4. What is an expression made up of? What do all expressions do?"
   ]
  },
  {
   "cell_type": "code",
   "execution_count": null,
   "id": "638c0f5a",
   "metadata": {},
   "outputs": [],
   "source": [
    "# An expression is a combination of values and operators. All expressions evaluate (that is, reduce) to a single value."
   ]
  },
  {
   "cell_type": "markdown",
   "id": "05271b41",
   "metadata": {},
   "source": [
    "# Q 5. This assignment statements, like spam = 10. What is the difference between an expression and a statement?"
   ]
  },
  {
   "cell_type": "code",
   "execution_count": null,
   "id": "6f9f810c",
   "metadata": {},
   "outputs": [],
   "source": [
    "# An expression evaluates to a single value. A statement does not.\n"
   ]
  },
  {
   "cell_type": "markdown",
   "id": "f80cb6ee",
   "metadata": {},
   "source": [
    "# Q 6. After running the following code, what does the variable bacon contain?"
   ]
  },
  {
   "cell_type": "code",
   "execution_count": null,
   "id": "b48fe5e4",
   "metadata": {},
   "outputs": [],
   "source": [
    "# It will contain 23. See below code"
   ]
  },
  {
   "cell_type": "code",
   "execution_count": 10,
   "id": "9315b169",
   "metadata": {},
   "outputs": [
    {
     "data": {
      "text/plain": [
       "23"
      ]
     },
     "execution_count": 10,
     "metadata": {},
     "output_type": "execute_result"
    }
   ],
   "source": [
    "bacon = 22\n",
    "bacon + 1"
   ]
  },
  {
   "cell_type": "markdown",
   "id": "943e1dec",
   "metadata": {},
   "source": [
    "# Q 7. What should the values of the following two terms be?"
   ]
  },
  {
   "cell_type": "code",
   "execution_count": null,
   "id": "7dcfda7c",
   "metadata": {},
   "outputs": [],
   "source": [
    "# Both expression would have value 'spamspamspam'. See below code"
   ]
  },
  {
   "cell_type": "code",
   "execution_count": 11,
   "id": "3198633b",
   "metadata": {},
   "outputs": [
    {
     "data": {
      "text/plain": [
       "'spamspamspam'"
      ]
     },
     "execution_count": 11,
     "metadata": {},
     "output_type": "execute_result"
    }
   ],
   "source": [
    "'spam' + 'spamspam'"
   ]
  },
  {
   "cell_type": "code",
   "execution_count": 12,
   "id": "4a5649a3",
   "metadata": {},
   "outputs": [
    {
     "data": {
      "text/plain": [
       "'spamspamspam'"
      ]
     },
     "execution_count": 12,
     "metadata": {},
     "output_type": "execute_result"
    }
   ],
   "source": [
    "'spam' * 3"
   ]
  },
  {
   "cell_type": "markdown",
   "id": "866bfc0b",
   "metadata": {},
   "source": [
    "# Q 8. Why is eggs a valid variable name while 100 is invalid?"
   ]
  },
  {
   "cell_type": "code",
   "execution_count": null,
   "id": "27afc2c5",
   "metadata": {},
   "outputs": [],
   "source": [
    "# Variable names cannot begin with a number"
   ]
  },
  {
   "cell_type": "markdown",
   "id": "316a1d0f",
   "metadata": {},
   "source": [
    "# Q 9. What three functions can be used to get the integer, floating-point number, or string version of a value?"
   ]
  },
  {
   "cell_type": "code",
   "execution_count": null,
   "id": "574db8c2",
   "metadata": {},
   "outputs": [],
   "source": [
    "# The int(), float(), and str() functions will evaluate to the integer, floating-point number, \n",
    "# and string versions of the value passed to them."
   ]
  },
  {
   "cell_type": "markdown",
   "id": "cb28f80a",
   "metadata": {},
   "source": [
    "# Q 10. Why does this expression cause an error? How can you fix it?\n",
    "# 'I have eaten ' + 99 + ' burritos.'"
   ]
  },
  {
   "cell_type": "code",
   "execution_count": null,
   "id": "abb40230",
   "metadata": {},
   "outputs": [],
   "source": [
    "# The expression causes an error because 99 is an integer, and only strings can be concatenated to other strings \n",
    "# with the + operator. The correct way is I have eaten ' + str(99) + ' burritos.' (see below)."
   ]
  },
  {
   "cell_type": "code",
   "execution_count": 15,
   "id": "14606bd2",
   "metadata": {},
   "outputs": [
    {
     "data": {
      "text/plain": [
       "'I have eaten 99 burritos.'"
      ]
     },
     "execution_count": 15,
     "metadata": {},
     "output_type": "execute_result"
    }
   ],
   "source": [
    "'I have eaten ' + str(99) + ' burritos.'"
   ]
  }
 ],
 "metadata": {
  "kernelspec": {
   "display_name": "Python 3 (ipykernel)",
   "language": "python",
   "name": "python3"
  },
  "language_info": {
   "codemirror_mode": {
    "name": "ipython",
    "version": 3
   },
   "file_extension": ".py",
   "mimetype": "text/x-python",
   "name": "python",
   "nbconvert_exporter": "python",
   "pygments_lexer": "ipython3",
   "version": "3.9.7"
  }
 },
 "nbformat": 4,
 "nbformat_minor": 5
}
