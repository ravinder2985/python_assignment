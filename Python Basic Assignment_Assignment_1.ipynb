{
 "cells": [
  {
   "cell_type": "markdown",
   "id": "0ed3f333",
   "metadata": {},
   "source": [
    "<b>\n",
    "1. In the below elements which of them are values or an expression? eg:- values can be integer or string and expressions \n",
    "will be mathematical operators.\n",
    "</b>\n",
    "\n",
    "* \n",
    "'hello'\n",
    "-87.8\n",
    "-/ \n",
    "-6 \n",
    "<b/>\n",
    "    \n",
    "<span style='color:blue'> <b>Solution:</b><br><br></span>\n",
    "\n",
    "<b>values</b> = 'hello', 87.8 & 6\n",
    "<br><b>expressions<b/> = /\n"
   ]
  },
  {
   "cell_type": "markdown",
   "id": "550c00c5",
   "metadata": {},
   "source": [
    "<b><span style='color:red'>\n",
    "2. What is the difference between string and variable?\n",
    "</span></b>\n",
    "\n",
    "<span style='color:blue'> <b>Solution:</b><br><br></span>\n",
    "A variable is something that holds a value that may change. In simplest terms, a variable is just a box that you can put stuff in. You can use variables to store all kinds of stuff, but for now, we are just going to look at storing numbers in variables.\n",
    "\n",
    "num = 7<br>\n",
    "print (num)<br>\n",
    "7<br><br>\n",
    "This code creates a variable called num, and assigns to it the integer number 7. When we ask Python to tell us what is stored in the variable num, it returns that number again.\n",
    "\n",
    "A 'string' is simply a list of characters in order. A character is anything you can type on the keyboard in one keystroke, like a letter, a number, or a backslash. For example, \"hello\" is a string\n",
    "\n",
    "There are three ways you can declare a string in Python: single quotes ('), double quotes (\"), and triple quotes (\"\"\").\n"
   ]
  },
  {
   "cell_type": "markdown",
   "id": "88687573",
   "metadata": {},
   "source": [
    "<b><span style='color:red'>\n",
    "3. Describe three different data types.\n",
    "</span></b>\n",
    "\n",
    "<span style='color:blue'> <b>Solution:</b><br></span>\n",
    "\n",
    "Python supports <b>three</b> categories of data types:\n",
    "\n",
    "* \n",
    "Basic Type - int, float, complex, bool, string, bytes\n",
    "*\n",
    "Container Type - list, tuple, set, dict\n",
    "*\n",
    "User Defined - Class\n"
   ]
  },
  {
   "cell_type": "markdown",
   "id": "3bbcff0b",
   "metadata": {},
   "source": [
    "<b><span style='color:red'>\n",
    "4. What is an expression made up of? What do all expressions do?\n",
    "</span></b>\n",
    "\n",
    "<span style='color:blue'> <b>\n",
    "Solution:\n",
    "</b><br></span>\n",
    "\n",
    "An expression is a combination of values and operators. All expressions evaluate (that is, reduce) to a single value."
   ]
  },
  {
   "cell_type": "markdown",
   "id": "2f626b9d",
   "metadata": {},
   "source": [
    "<b><span style='color:red'>\n",
    "5. This assignment statements, like spam = 10. What is the difference between an expression and a statement?\n",
    "</span></b>\n",
    "\n",
    "<span style='color:blue'> <b>\n",
    "Solution:\n",
    "</b><br></span>\n",
    "\n",
    "An expression evaluates to a single value. A statement does not.\n"
   ]
  },
  {
   "cell_type": "markdown",
   "id": "12077e91",
   "metadata": {},
   "source": [
    "<b><span style='color:red'>\n",
    "6. After running the following code, what does the variable bacon contain?\n",
    "</span></b>\n",
    "\n",
    "<span style='color:blue'> <b>Solution:</b><br></span>\n",
    "\n",
    "It will contain 23. See below code\n"
   ]
  },
  {
   "cell_type": "code",
   "execution_count": 10,
   "id": "6254677f",
   "metadata": {},
   "outputs": [
    {
     "data": {
      "text/plain": [
       "23"
      ]
     },
     "execution_count": 10,
     "metadata": {},
     "output_type": "execute_result"
    }
   ],
   "source": [
    "bacon = 22\n",
    "bacon + 1"
   ]
  },
  {
   "cell_type": "markdown",
   "id": "11cf257d",
   "metadata": {},
   "source": [
    "<b><span style='color:red'>\n",
    "7. What should the values of the following two terms be?\n",
    "</span></b>\n",
    "\n",
    "<span style='color:blue'> <b>Solution:</b><br></span>\n",
    "\n",
    "Both expression would have value 'spamspamspam'. See below code"
   ]
  },
  {
   "cell_type": "code",
   "execution_count": 11,
   "id": "fe3a128e",
   "metadata": {},
   "outputs": [
    {
     "data": {
      "text/plain": [
       "'spamspamspam'"
      ]
     },
     "execution_count": 11,
     "metadata": {},
     "output_type": "execute_result"
    }
   ],
   "source": [
    "'spam' + 'spamspam'"
   ]
  },
  {
   "cell_type": "code",
   "execution_count": 12,
   "id": "87df013c",
   "metadata": {},
   "outputs": [
    {
     "data": {
      "text/plain": [
       "'spamspamspam'"
      ]
     },
     "execution_count": 12,
     "metadata": {},
     "output_type": "execute_result"
    }
   ],
   "source": [
    "'spam' * 3"
   ]
  },
  {
   "cell_type": "markdown",
   "id": "9bf24f12",
   "metadata": {},
   "source": [
    "<b><span style='color:red'>\n",
    "8. Why is eggs a valid variable name while 100 is invalid?\n",
    "</span></b>\n",
    "\n",
    "<span style='color:blue'> <b>Solution:</b><br></span>\n",
    "    \n",
    "Variable names cannot begin with a number"
   ]
  },
  {
   "cell_type": "markdown",
   "id": "8fed22b9",
   "metadata": {},
   "source": [
    "<b><span style='color:red'>\n",
    "9. What three functions can be used to get the integer, floating-point number, or string version of a value?\n",
    "</span></b>\n",
    "\n",
    "<span style='color:blue'> <b>Solution:</b><br></span>\n",
    "\n",
    "The int(), float(), and str() functions will evaluate to the integer, floating-point number, and string versions of the value passed to them."
   ]
  },
  {
   "cell_type": "markdown",
   "id": "d5fce6d3",
   "metadata": {},
   "source": [
    "<b><span style='color:red'>\n",
    "10. Why does this expression cause an error? How can you fix it?<br>\n",
    "<b><span style='color:red'>\n",
    "'I have eaten ' + 99 + ' burritos.'\n",
    "</span></b>\n",
    "\n",
    "<span style='color:blue'> <b>Solution:</b><br></span>\n",
    "\n",
    "The expression causes an error because 99 is an integer, and only strings can be concatenated to other strings with the + operator. The correct way is I have eaten ' + str(99) + ' burritos.' (see below)."
   ]
  },
  {
   "cell_type": "code",
   "execution_count": 14,
   "id": "863a8abe",
   "metadata": {},
   "outputs": [
    {
     "data": {
      "text/plain": [
       "'I have eaten 99 burritos.'"
      ]
     },
     "execution_count": 14,
     "metadata": {},
     "output_type": "execute_result"
    }
   ],
   "source": [
    "'I have eaten ' + str(99) + ' burritos.'"
   ]
  }
 ],
 "metadata": {
  "kernelspec": {
   "display_name": "Python 3 (ipykernel)",
   "language": "python",
   "name": "python3"
  },
  "language_info": {
   "codemirror_mode": {
    "name": "ipython",
    "version": 3
   },
   "file_extension": ".py",
   "mimetype": "text/x-python",
   "name": "python",
   "nbconvert_exporter": "python",
   "pygments_lexer": "ipython3",
   "version": "3.9.7"
  }
 },
 "nbformat": 4,
 "nbformat_minor": 5
}
