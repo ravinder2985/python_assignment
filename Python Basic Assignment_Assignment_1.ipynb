{
 "cells": [
  {
   "cell_type": "raw",
   "id": "ca4cdd25",
   "metadata": {},
   "source": [
    "1. In the below elements which of them are values or an expression? eg:- values can be integer or string and expressions \n",
    "will be mathematical operators.\n",
    "\n",
    "'hello'\n",
    "87.8\n",
    "/ \n",
    "6 \n",
    "\n",
    "Solution:\n",
    "\n",
    "values = 'hello', 87.8 & 6\n",
    "expressions = /\n"
   ]
  },
  {
   "cell_type": "raw",
   "id": "8830d27a",
   "metadata": {},
   "source": [
    "2. What is the difference between string and variable?\n",
    "\n",
    "\n",
    "Solution:\n",
    "\n",
    "A variable is something that holds a value that may change. In simplest terms, a variable is just a box that you can put stuff in. You can use variables to store all kinds of stuff, but for now, we are just going to look at storing numbers in variables.\n",
    "\n",
    "num = 7\n",
    "print (num)\n",
    "7\n",
    "This code creates a variable called num, and assigns to it the integer number 7. When we ask Python to tell us what is stored in the variable num, it returns that number again.\n",
    "\n",
    "A 'string' is simply a list of characters in order. A character is anything you can type on the keyboard in one keystroke, like a letter, a number, or a backslash. For example, \"hello\" is a string\n",
    "\n",
    "There are three ways you can declare a string in Python: single quotes ('), double quotes (\"), and triple quotes (\"\"\").\n"
   ]
  },
  {
   "cell_type": "raw",
   "id": "a9ba0938",
   "metadata": {},
   "source": [
    "3. Describe three different data types.\n",
    "\n",
    "\n",
    "Solution:\n",
    "\n",
    "Python supports three categories of data types:\n",
    "\n",
    "Basic Type - int, float, complex, bool, string, bytes\n",
    "Container Type - list, tuple, set, dict\n",
    "User Defined - Class\n"
   ]
  },
  {
   "cell_type": "raw",
   "id": "3ba4f71c",
   "metadata": {},
   "source": [
    "4. What is an expression made up of? What do all expressions do?\n",
    "\n",
    "Solution:\n",
    "\n",
    "An expression is a combination of values and operators. All expressions evaluate (that is, reduce) to a single value."
   ]
  },
  {
   "cell_type": "raw",
   "id": "4cf2ff14",
   "metadata": {},
   "source": [
    "5. This assignment statements, like spam = 10. What is the difference between an expression and a statement?\n",
    "\n",
    "Solution:\n",
    "\n",
    "An expression evaluates to a single value. A statement does not.\n"
   ]
  },
  {
   "cell_type": "raw",
   "id": "d218bb40",
   "metadata": {},
   "source": [
    "6. After running the following code, what does the variable bacon contain?\n",
    "\n",
    "Solution:\n",
    "\n",
    "It will contain 23. See below code\n"
   ]
  },
  {
   "cell_type": "code",
   "execution_count": 10,
   "id": "854473b9",
   "metadata": {},
   "outputs": [
    {
     "data": {
      "text/plain": [
       "23"
      ]
     },
     "execution_count": 10,
     "metadata": {},
     "output_type": "execute_result"
    }
   ],
   "source": [
    "bacon = 22\n",
    "bacon + 1"
   ]
  },
  {
   "cell_type": "raw",
   "id": "b643d9a2",
   "metadata": {},
   "source": [
    "7. What should the values of the following two terms be?\n",
    "\n",
    "Solution:\n",
    "\n",
    "Both expression would have value 'spamspamspam'. See below code"
   ]
  },
  {
   "cell_type": "code",
   "execution_count": 11,
   "id": "d197c9b7",
   "metadata": {},
   "outputs": [
    {
     "data": {
      "text/plain": [
       "'spamspamspam'"
      ]
     },
     "execution_count": 11,
     "metadata": {},
     "output_type": "execute_result"
    }
   ],
   "source": [
    "'spam' + 'spamspam'"
   ]
  },
  {
   "cell_type": "code",
   "execution_count": 12,
   "id": "e5691c07",
   "metadata": {},
   "outputs": [
    {
     "data": {
      "text/plain": [
       "'spamspamspam'"
      ]
     },
     "execution_count": 12,
     "metadata": {},
     "output_type": "execute_result"
    }
   ],
   "source": [
    "'spam' * 3"
   ]
  },
  {
   "cell_type": "raw",
   "id": "079bb6de",
   "metadata": {},
   "source": [
    "8. Why is eggs a valid variable name while 100 is invalid?\n",
    "\n",
    "Solution:\n",
    "\n",
    "Variable names cannot begin with a number"
   ]
  },
  {
   "cell_type": "raw",
   "id": "d3e24405",
   "metadata": {},
   "source": [
    "9. What three functions can be used to get the integer, floating-point number, or string version of a value?\n",
    "\n",
    "Solution:\n",
    "\n",
    "The int(), float(), and str() functions will evaluate to the integer, floating-point number, and string versions of the value passed to them."
   ]
  },
  {
   "cell_type": "raw",
   "id": "a90ddb88",
   "metadata": {},
   "source": [
    "10. Why does this expression cause an error? How can you fix it?\n",
    "'I have eaten ' + 99 + ' burritos.'\n",
    "\n",
    "Solution:\n",
    "\n",
    "The expression causes an error because 99 is an integer, and only strings can be concatenated to other strings with the + operator. The correct way is I have eaten ' + str(99) + ' burritos.' (see below)."
   ]
  },
  {
   "cell_type": "code",
   "execution_count": 15,
   "id": "316cc772",
   "metadata": {},
   "outputs": [
    {
     "data": {
      "text/plain": [
       "'I have eaten 99 burritos.'"
      ]
     },
     "execution_count": 15,
     "metadata": {},
     "output_type": "execute_result"
    }
   ],
   "source": [
    "'I have eaten ' + str(99) + ' burritos.'"
   ]
  }
 ],
 "metadata": {
  "kernelspec": {
   "display_name": "Python 3 (ipykernel)",
   "language": "python",
   "name": "python3"
  },
  "language_info": {
   "codemirror_mode": {
    "name": "ipython",
    "version": 3
   },
   "file_extension": ".py",
   "mimetype": "text/x-python",
   "name": "python",
   "nbconvert_exporter": "python",
   "pygments_lexer": "ipython3",
   "version": "3.9.7"
  }
 },
 "nbformat": 4,
 "nbformat_minor": 5
}
